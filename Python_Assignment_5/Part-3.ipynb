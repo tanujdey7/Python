{
 "cells": [
  {
   "cell_type": "markdown",
   "metadata": {},
   "source": [
    "### GITHUB.COM/TANUJDEY7 (c) Copyright, MIT LICENSE 2020"
   ]
  },
  {
   "cell_type": "code",
   "execution_count": 1,
   "metadata": {},
   "outputs": [],
   "source": [
    "from tkinter import *\n",
    "root = Tk()\n",
    "scroll = Scrollbar(root)\n",
    "scroll.pack(side=RIGHT,fill=Y)\n",
    "text = Text(root, yscrollcommand=scroll.set)\n",
    "text.pack(side=LEFT)\n",
    "for i in range(100,150):\n",
    "    text.insert(INSERT,str(i)+\"\\n\")\n",
    "scroll.config(command=text.yview)\n",
    "root.mainloop()"
   ]
  },
  {
   "cell_type": "code",
   "execution_count": 2,
   "metadata": {},
   "outputs": [],
   "source": [
    "from tkinter import *\n",
    "root = Tk()\n",
    "photo = PhotoImage(file='vivek.png')\n",
    "img = Text(root,height=15,width=25)\n",
    "img.image_create(INSERT,image=photo)\n",
    "img.pack(side=LEFT)\n",
    "scroll = Scrollbar(root)\n",
    "scroll.pack(side=RIGHT,fill=Y)\n",
    "text = Text(root,height=15,width=50, yscrollcommand=scroll.set)\n",
    "text.pack(side=LEFT)\n",
    "text.tag_config(\"b\",font=(\"Arial\",15,\"bold\"))\n",
    "text.insert(INSERT,\"SWAMI VIVEKAMUNANAN\\n\\n\",\"b\")\n",
    "text.insert(END,\"Swami Vivekananda was a Hindu monk and one of the most celebrated spiritual leaders of India. He was more than just a spiritual mind; he was a prolific thinker, great orator and passionate patriot. He carried on the free-thinking philosophy of his guru, Ramakrishna Paramhansa forward into a new paradigm. He worked tirelessly towards betterment of the society, in servitude of the poor and needy, dedicating his all for his country.  He was responsible for the revival of Hindu spiritualism and established Hinduism as a revered religion on world stage. His message of universal brotherhood  and self-awakening remains relevant especially in the current backdrop of widespread political turmoil around the world. The young monk and his teachings have been an inspiration to  many, and his words have become goals of self-improvement especially for the youth of the country. For this very reason, his birthday, January 12, is celebrated as the National Youth Day in India.\")\n",
    "scroll.config(command=text.yview)\n",
    "root.mainloop()"
   ]
  }
 ],
 "metadata": {
  "kernelspec": {
   "display_name": "Python 3",
   "language": "python",
   "name": "python3"
  },
  "language_info": {
   "codemirror_mode": {
    "name": "ipython",
    "version": 3
   },
   "file_extension": ".py",
   "mimetype": "text/x-python",
   "name": "python",
   "nbconvert_exporter": "python",
   "pygments_lexer": "ipython3",
   "version": "3.7.4"
  }
 },
 "nbformat": 4,
 "nbformat_minor": 2
}
