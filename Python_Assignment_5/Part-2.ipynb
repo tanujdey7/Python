{
 "cells": [
  {
   "cell_type": "code",
   "execution_count": 1,
   "metadata": {},
   "outputs": [],
   "source": [
    "from tkinter import *\n",
    "root = Tk()\n",
    "root.title(\"Colors\")\n",
    "Button(root,text=\"red\",bg=\"red\").pack()\n",
    "Button(root,text=\"yellow\",bg=\"yellow\").pack()\n",
    "Button(root,text=\"pink\",bg=\"pink\").pack()\n",
    "Button(root,text=\"green\",bg=\"green\").pack()\n",
    "Button(root,text=\"orange\",bg=\"orange\").pack()\n",
    "Button(root,text=\"blue\",bg=\"blue\").pack()\n",
    "root.mainloop()"
   ]
  },
  {
   "cell_type": "code",
   "execution_count": 2,
   "metadata": {},
   "outputs": [],
   "source": [
    "from tkinter import *\n",
    "root = Tk()\n",
    "root.title(\"7\")\n",
    "def sum():\n",
    "    sum = int(e1.get()) + int(e2.get())\n",
    "    e3.insert(0,str(sum))\n",
    "def quit():\n",
    "    root.destroy()\n",
    "l1 = Label(root,text=\"Enter Num 1\")\n",
    "l1.grid(row=0,column=0)\n",
    "e1 = Entry(root)\n",
    "e1.grid(row=0,column=1)\n",
    "l2 = Label(root,text=\"Enter Num 2\")\n",
    "l2.grid(row=1,column=0)\n",
    "e2 = Entry(root)\n",
    "e2.grid(row=1,column=1)\n",
    "l3 = Label(root,text=\"The Sum is\")\n",
    "l3.grid(row=2,column=0)\n",
    "e3 = Entry(root)\n",
    "e3.grid(row=2,column=1)\n",
    "b1 = Button(root,text=\"Quit\",command=quit)\n",
    "b2 = Button(root,text=\"Show\",command=sum)\n",
    "b1.grid(row=3,column=0)\n",
    "b2.grid(row=3,column=1)\n",
    "root.mainloop()"
   ]
  },
  {
   "cell_type": "code",
   "execution_count": 3,
   "metadata": {},
   "outputs": [],
   "source": [
    "from tkinter import *\n",
    "root = Tk()\n",
    "root.title(\"tk\")\n",
    "def data():\n",
    "    label = Label(root,text=e1.get()+\" \"+e2.get()+\"\\n\"+e3.get()+\" at \"+e4.get()+\", \"+e5.get())\n",
    "    label.grid(row=6,column=0)\n",
    "def quit():\n",
    "    root.destroy()\n",
    "Label(root,text=\"First Name\").grid(row=0,column=0)\n",
    "e1 = Entry(root)\n",
    "e1.grid(row=0,column=1)\n",
    "Label(root,text=\"Last Name\").grid(row=1,column=0)\n",
    "e2 = Entry(root)\n",
    "e2.grid(row=1,column=1)\n",
    "Label(root,text=\"Designation Name\").grid(row=2,column=0)\n",
    "e3 = Entry(root)\n",
    "e3.grid(row=2,column=1)\n",
    "Label(root,text=\"Company Name\").grid(row=3,column=0)\n",
    "e4 = Entry(root)\n",
    "e4.grid(row=3,column=1)\n",
    "Label(root,text=\"Country Name\").grid(row=4,column=0)\n",
    "e5 = Entry(root)\n",
    "e5.grid(row=4,column=1)\n",
    "Button(root,text=\"Quit\",command=quit).grid(row=5,column=0)\n",
    "Button(root,text=\"Show\",command=data).grid(row=5,column=1)\n",
    "root.mainloop()"
   ]
  },
  {
   "cell_type": "code",
   "execution_count": 4,
   "metadata": {},
   "outputs": [],
   "source": [
    "from tkinter import *\n",
    "root = Tk()\n",
    "def copy():\n",
    "    Label(root,text=\"******\").place(x=70,y=70)\n",
    "e1 = Entry(root,show=\"*\",width=30)\n",
    "e1.place(x=0,y=0)\n",
    "Button(root,text=\"Copy\",command=copy,fg=\"blue\",bg=\"yellow\").place(x=70,y=30)\n",
    "root.geometry(\"300x300\")\n",
    "root.mainloop()"
   ]
  },
  {
   "cell_type": "code",
   "execution_count": 5,
   "metadata": {},
   "outputs": [],
   "source": [
    "from tkinter import *\n",
    "root = Tk()\n",
    "def click():\n",
    "    if(var1.get() == 1):\n",
    "        l1.insert(END,\"Ubuntu\")\n",
    "    elif(var1.get() == 2):\n",
    "        l1.insert(END,\"Windows\")\n",
    "    elif(var1.get() == 3):\n",
    "        l1.insert(END,\"Mac\")\n",
    "    else:\n",
    "        l1.insert(END,\"Linux\")\n",
    "l1 = Listbox(root)\n",
    "l1.pack(side=LEFT)\n",
    "var1 = IntVar()\n",
    "Label(root,text=\"Insert Data\").pack()\n",
    "Radiobutton(root,text=\"Ubuntu\",variable=var1,value=1,command=click).pack()\n",
    "Radiobutton(root,text=\"Windows\",variable=var1,value=2,command=click).pack()\n",
    "Radiobutton(root,text=\"Mac\",variable=var1,value=3,command=click).pack()\n",
    "Radiobutton(root,text=\"Linux\",variable=var1,value=4,command=click).pack()\n",
    "root.mainloop()"
   ]
  }
 ],
 "metadata": {
  "kernelspec": {
   "display_name": "Python 3",
   "language": "python",
   "name": "python3"
  },
  "language_info": {
   "codemirror_mode": {
    "name": "ipython",
    "version": 3
   },
   "file_extension": ".py",
   "mimetype": "text/x-python",
   "name": "python",
   "nbconvert_exporter": "python",
   "pygments_lexer": "ipython3",
   "version": "3.7.4"
  }
 },
 "nbformat": 4,
 "nbformat_minor": 2
}
