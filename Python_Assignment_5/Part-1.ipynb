{
 "cells": [
  {
   "cell_type": "markdown",
   "metadata": {},
   "source": [
    "### GITHUB.COM/TANUJDEY7 (c) Copyright, MIT LICENSE 2020"
   ]
  },
  {
   "cell_type": "code",
   "execution_count": 1,
   "metadata": {},
   "outputs": [],
   "source": [
    "from tkinter import *\n",
    "from tkinter import messagebox\n",
    "root = Tk()\n",
    "def message():\n",
    "    messagebox.showinfo(\"Hello World\",\"Hello\")\n",
    "Button(root,text=\"Click\",command=message).pack()\n",
    "root.mainloop()"
   ]
  },
  {
   "cell_type": "code",
   "execution_count": 2,
   "metadata": {},
   "outputs": [],
   "source": [
    "from tkinter import *\n",
    "root = Tk()\n",
    "def radio():\n",
    "    if(var.get()==1):\n",
    "        Label(root,text=\"Python\").pack()\n",
    "    if(var.get()==2):\n",
    "        Label(root,text=\"Perl\").pack()\n",
    "    if(var.get()==3):\n",
    "        Label(root,text=\"Java\").pack()\n",
    "    if(var.get()==4):\n",
    "        Label(root,text=\"C\").pack()\n",
    "    if(var.get()==5):\n",
    "        Label(root,text=\"C++\").pack()\n",
    "var = IntVar()\n",
    "Label(root,text=\"Choose Your favorite Programming Language\").pack()\n",
    "Radiobutton(root,text=\"Python\",variable=var,value=1,command=radio).pack()\n",
    "Radiobutton(root,text=\"Perl\",variable=var,value=2,command=radio).pack()\n",
    "Radiobutton(root,text=\"Java\",variable=var,value=3,command=radio).pack()\n",
    "Radiobutton(root,text=\"C\",variable=var,value=4,command=radio).pack()\n",
    "Radiobutton(root,text=\"C++\",variable=var,value=5,command=radio).pack()\n",
    "root.geometry(\"400x400\")\n",
    "root.mainloop()"
   ]
  },
  {
   "cell_type": "code",
   "execution_count": 3,
   "metadata": {},
   "outputs": [],
   "source": [
    "from tkinter import *\n",
    "root = Tk()\n",
    "def check():\n",
    "    if(var1.get()):\n",
    "        label1 = Label(root,text=var1.get()).pack()\n",
    "    if(var2.get()):\n",
    "        label2 = Label(root,text=var2.get()).pack()\n",
    "    if(var3.get()):\n",
    "        label3 = Label(root,text=var3.get()).pack()\n",
    "var1 = StringVar()\n",
    "var2 = StringVar()\n",
    "var3 = StringVar()\n",
    "c1 = Checkbutton(root,text=\"Banana\",variable=var1,onvalue=\"Banana\",offvalue=\"\",command=check)\n",
    "c1.deselect()\n",
    "c1.pack()\n",
    "c2 = Checkbutton(root,text=\"Chicken\",variable=var2,onvalue=\"Chicken\",offvalue=\"\",command=check)\n",
    "c2.deselect()\n",
    "c2.pack()\n",
    "c3 = Checkbutton(root,text=\"Stuffed Pepper\",variable=var3,onvalue=\"S.Pepper\",offvalue=\"\",command=check)\n",
    "c3.deselect()\n",
    "c3.pack()\n",
    "root.mainloop()"
   ]
  },
  {
   "cell_type": "code",
   "execution_count": 4,
   "metadata": {},
   "outputs": [],
   "source": [
    "from tkinter import *\n",
    "root = Tk()\n",
    "def check():\n",
    "    if(var.get() == 1):\n",
    "        label = Label(root,text=\"Not eligible to vote\").pack()\n",
    "    if(var.get() == 2):\n",
    "        label = Label(root,text=\"Eligible to vote\").pack()\n",
    "var = IntVar()\n",
    "Radiobutton(root,text=\"Less than 18\",variable=var,value=1,command=check).pack()\n",
    "Radiobutton(root,text=\"Greater than 18\",variable=var,value=2,command=check).pack()\n",
    "root.mainloop()"
   ]
  },
  {
   "cell_type": "code",
   "execution_count": 5,
   "metadata": {},
   "outputs": [],
   "source": [
    "from tkinter import *\n",
    "root = Tk()\n",
    "def check():\n",
    "    if(var.get() == 1):\n",
    "        label = Label(root,text=\"Male\").pack()\n",
    "    if(var.get() == 2):\n",
    "        label = Label(root,text=\"Female\").pack()\n",
    "def quit():\n",
    "    root.destroy()\n",
    "\n",
    "Label(root,text=\"Your Sex\").pack()\n",
    "Label(root,text=\"Pls select...\").pack()\n",
    "var = IntVar()\n",
    "Radiobutton(root,text=\"Male\",variable=var,value=1).pack()\n",
    "Radiobutton(root,text=\"Female\",variable=var,value=2).pack()\n",
    "Button(root,text=\"Quit\",command=quit).pack()\n",
    "Button(root,text=\"Show\",command=check).pack()\n",
    "root.mainloop()"
   ]
  }
 ],
 "metadata": {
  "kernelspec": {
   "display_name": "Python 3",
   "language": "python",
   "name": "python3"
  },
  "language_info": {
   "codemirror_mode": {
    "name": "ipython",
    "version": 3
   },
   "file_extension": ".py",
   "mimetype": "text/x-python",
   "name": "python",
   "nbconvert_exporter": "python",
   "pygments_lexer": "ipython3",
   "version": "3.7.4"
  }
 },
 "nbformat": 4,
 "nbformat_minor": 2
}
