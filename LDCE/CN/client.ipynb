{
 "cells": [
  {
   "cell_type": "code",
   "execution_count": null,
   "id": "dc6e70af",
   "metadata": {},
   "outputs": [],
   "source": [
    "#6\n",
    "#Client\n",
    "import socket\n",
    "c = socket.socket(socket.AF_INET,socket.SOCK_STREAM)\n",
    "c.connect(('127.0.0.1',12345))\n",
    "try:\n",
    "    print(c.recv(1024).decode())\n",
    "except:\n",
    "    print(\"Server not found\")\n",
    "c.close()"
   ]
  },
  {
   "cell_type": "code",
   "execution_count": null,
   "id": "af68004d",
   "metadata": {},
   "outputs": [],
   "source": [
    "#7\n",
    "#Client\n",
    "import socket\n",
    "cli = socket.socket(socket.AF_INET,socket.SOCK_DGRAM)\n",
    "try:\n",
    "    cli.sendto(\"Hello Server\".encode(),('127.0.0.1',1234))\n",
    "    data,addr = cli.recvfrom(1024)\n",
    "    print(data.decode())\n",
    "except:\n",
    "    print(\"Error\")"
   ]
  },
  {
   "cell_type": "code",
   "execution_count": null,
   "id": "1a814d6a",
   "metadata": {},
   "outputs": [],
   "source": [
    "#8\n",
    "#Client\n",
    "import socket\n",
    "c = socket.socket(socket.AF_INET,socket.SOCK_STREAM)\n",
    "c.connect(('127.0.0.1',12345))\n",
    "try:\n",
    "    print(c.recv(1024).decode())\n",
    "except:\n",
    "    print(\"Server not found\")\n",
    "c.close()"
   ]
  },
  {
   "cell_type": "code",
   "execution_count": null,
   "id": "79f4d04e",
   "metadata": {},
   "outputs": [],
   "source": [
    "#9\n",
    "#Client\n",
    "import socket\n",
    "cli = socket.socket(socket.AF_INET,socket.SOCK_DGRAM)\n",
    "try:\n",
    "    cli.sendto(\"Hello Server\".encode(),('127.0.0.1',1234))\n",
    "    data,addr = cli.recvfrom(1024)\n",
    "    print(data.decode())\n",
    "except:\n",
    "    print(\"Error\")"
   ]
  },
  {
   "cell_type": "code",
   "execution_count": null,
   "id": "ff3a89d0",
   "metadata": {},
   "outputs": [],
   "source": [
    "#10\n",
    "#Client\n",
    "import socket\n",
    "s = socket.socket(socket.AF_INET, socket.SOCK_STREAM)\n",
    "s.connect(('127.0.0.1', 1234))\n",
    "s.send(b'Hello, world')\n",
    "data = s.recv(1024)\n",
    "time = s.recv(1024)\n",
    "print(time)\n",
    "print('Received', repr(data))\n"
   ]
  },
  {
   "cell_type": "code",
   "execution_count": 1,
   "id": "5326e8cf",
   "metadata": {},
   "outputs": [
    {
     "name": "stdout",
     "output_type": "stream",
     "text": [
      "b'2021-07-29 15:10:58.467510'\n"
     ]
    }
   ],
   "source": [
    "#11\n",
    "#Client\n",
    "import socket\n",
    "msgFromClient       = \"hello from client\"\n",
    "bytesToSend         = str.encode(msgFromClient)\n",
    "s = socket.socket(socket.AF_INET, socket.SOCK_DGRAM)\n",
    "s.sendto(bytesToSend, ('127.0.0.1',1234))\n",
    "timeFromServer = s.recvfrom(1024)\n",
    "time=format(timeFromServer[0])\n",
    "print(time)"
   ]
  },
  {
   "cell_type": "code",
   "execution_count": 3,
   "id": "8e612f65",
   "metadata": {},
   "outputs": [
    {
     "name": "stdout",
     "output_type": "stream",
     "text": [
      " - Hello\n",
      "Received from server: How are you\n",
      " -> I am good\n",
      "Received from server: Nice\n",
      " -> Bye\n"
     ]
    }
   ],
   "source": [
    "#12\n",
    "#Client\n",
    "import socket\n",
    "def client_program():\n",
    "    host = socket.gethostname()\n",
    "    port = 5000\n",
    "    client_socket = socket.socket()\n",
    "    client_socket.connect((host, port))\n",
    "    message = input(\" - \")\n",
    "    while message.lower().strip() != 'bye':\n",
    "        client_socket.send(message.encode())\n",
    "        data = client_socket.recv(1024).decode()\n",
    "        print('Received from server: ' + data)\n",
    "        message = input(\" -> \")\n",
    "    client_socket.close()\n",
    "if __name__ == '__main__':\n",
    "    client_program()"
   ]
  },
  {
   "cell_type": "code",
   "execution_count": 4,
   "id": "3cf72e0f",
   "metadata": {},
   "outputs": [
    {
     "name": "stdout",
     "output_type": "stream",
     "text": [
      " - Hello\n",
      "b'How are you?'\n",
      " -> Good\n",
      "b'Same here'\n",
      " -> Bye\n"
     ]
    }
   ],
   "source": [
    "#13\n",
    "#Server\n",
    "import socket\n",
    "serverAddressPort = (\"127.0.0.1\", 1234)\n",
    "serv = socket.socket(socket.AF_INET,socket.SOCK_DGRAM)\n",
    "message       = input(' - ')\n",
    "bytesToSend   = str.encode(message)\n",
    "while message.lower().strip() != 'bye':\n",
    "    serv.sendto(bytesToSend, serverAddressPort)\n",
    "    msgFromServer = serv.recvfrom(1024)\n",
    "    msg = format(msgFromServer[0])\n",
    "    print(msg)\n",
    "    message = input(\" -> \")\n",
    "    bytesToSend   = str.encode(message)\n"
   ]
  },
  {
   "cell_type": "code",
   "execution_count": 10,
   "id": "b012ca2c",
   "metadata": {},
   "outputs": [
    {
     "ename": "ConnectionRefusedError",
     "evalue": "[WinError 10061] No connection could be made because the target machine actively refused it",
     "output_type": "error",
     "traceback": [
      "\u001b[1;31m---------------------------------------------------------------------------\u001b[0m",
      "\u001b[1;31mConnectionRefusedError\u001b[0m                    Traceback (most recent call last)",
      "\u001b[1;32m<ipython-input-10-9aec4d975c97>\u001b[0m in \u001b[0;36m<module>\u001b[1;34m\u001b[0m\n\u001b[0;32m     16\u001b[0m     \u001b[0ms\u001b[0m\u001b[1;33m.\u001b[0m\u001b[0mclose\u001b[0m\u001b[1;33m(\u001b[0m\u001b[1;33m)\u001b[0m\u001b[1;33m\u001b[0m\u001b[1;33m\u001b[0m\u001b[0m\n\u001b[0;32m     17\u001b[0m \u001b[1;32mif\u001b[0m \u001b[0m__name__\u001b[0m \u001b[1;33m==\u001b[0m \u001b[1;34m'__main__'\u001b[0m\u001b[1;33m:\u001b[0m\u001b[1;33m\u001b[0m\u001b[1;33m\u001b[0m\u001b[0m\n\u001b[1;32m---> 18\u001b[1;33m     \u001b[0mMain\u001b[0m\u001b[1;33m(\u001b[0m\u001b[1;33m)\u001b[0m\u001b[1;33m\u001b[0m\u001b[1;33m\u001b[0m\u001b[0m\n\u001b[0m",
      "\u001b[1;32m<ipython-input-10-9aec4d975c97>\u001b[0m in \u001b[0;36mMain\u001b[1;34m()\u001b[0m\n\u001b[0;32m      2\u001b[0m \u001b[1;32mdef\u001b[0m \u001b[0mMain\u001b[0m\u001b[1;33m(\u001b[0m\u001b[1;33m)\u001b[0m\u001b[1;33m:\u001b[0m\u001b[1;33m\u001b[0m\u001b[1;33m\u001b[0m\u001b[0m\n\u001b[0;32m      3\u001b[0m     \u001b[0ms\u001b[0m \u001b[1;33m=\u001b[0m \u001b[0msocket\u001b[0m\u001b[1;33m.\u001b[0m\u001b[0msocket\u001b[0m\u001b[1;33m(\u001b[0m\u001b[0msocket\u001b[0m\u001b[1;33m.\u001b[0m\u001b[0mAF_INET\u001b[0m\u001b[1;33m,\u001b[0m\u001b[0msocket\u001b[0m\u001b[1;33m.\u001b[0m\u001b[0mSOCK_STREAM\u001b[0m\u001b[1;33m)\u001b[0m\u001b[1;33m\u001b[0m\u001b[1;33m\u001b[0m\u001b[0m\n\u001b[1;32m----> 4\u001b[1;33m     \u001b[0ms\u001b[0m\u001b[1;33m.\u001b[0m\u001b[0mconnect\u001b[0m\u001b[1;33m(\u001b[0m\u001b[1;33m(\u001b[0m\u001b[1;34m'127.0.0.1'\u001b[0m\u001b[1;33m,\u001b[0m\u001b[1;36m1234\u001b[0m\u001b[1;33m)\u001b[0m\u001b[1;33m)\u001b[0m\u001b[1;33m\u001b[0m\u001b[1;33m\u001b[0m\u001b[0m\n\u001b[0m\u001b[0;32m      5\u001b[0m     \u001b[0mmessage\u001b[0m \u001b[1;33m=\u001b[0m \u001b[1;34m\"Hello World\"\u001b[0m\u001b[1;33m\u001b[0m\u001b[1;33m\u001b[0m\u001b[0m\n\u001b[0;32m      6\u001b[0m     \u001b[1;32mwhile\u001b[0m \u001b[1;32mTrue\u001b[0m\u001b[1;33m:\u001b[0m\u001b[1;33m\u001b[0m\u001b[1;33m\u001b[0m\u001b[0m\n",
      "\u001b[1;31mConnectionRefusedError\u001b[0m: [WinError 10061] No connection could be made because the target machine actively refused it"
     ]
    }
   ],
   "source": [
    "#14\n",
    "#Client\n",
    "import socket\n",
    "def Main():\n",
    "    s = socket.socket(socket.AF_INET,socket.SOCK_STREAM)\n",
    "    s.connect(('127.0.0.1',1234))\n",
    "    message = \"Hello World\"\n",
    "    while True:\n",
    "        s.send(message.encode('ascii'))\n",
    "        data = s.recv(1024)\n",
    "        print('Received from the server :',str(data.decode('ascii')))\n",
    "\n",
    "        ans = input('\\nDo you want to continue(y/n) :')\n",
    "        if ans == 'y':\n",
    "            continue\n",
    "        else:\n",
    "            break\n",
    "    s.close()\n",
    "if __name__ == '__main__':\n",
    "    Main()"
   ]
  },
  {
   "cell_type": "code",
   "execution_count": 11,
   "id": "f8e38573",
   "metadata": {},
   "outputs": [
    {
     "name": "stdout",
     "output_type": "stream",
     "text": [
      "Thank you for connecting\n"
     ]
    }
   ],
   "source": [
    "#20\n",
    "#Client\n",
    "import socket\n",
    "s = socket.socket()\n",
    "s.connect(('127.0.0.1', 1234))\n",
    "print (s.recv(1024).decode() )\n",
    "s.close()"
   ]
  }
 ],
 "metadata": {
  "kernelspec": {
   "display_name": "Python 3",
   "language": "python",
   "name": "python3"
  },
  "language_info": {
   "codemirror_mode": {
    "name": "ipython",
    "version": 3
   },
   "file_extension": ".py",
   "mimetype": "text/x-python",
   "name": "python",
   "nbconvert_exporter": "python",
   "pygments_lexer": "ipython3",
   "version": "3.8.8"
  }
 },
 "nbformat": 4,
 "nbformat_minor": 5
}
