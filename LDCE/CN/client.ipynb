{
 "cells": [
  {
   "cell_type": "code",
   "execution_count": 1,
   "id": "dc6e70af",
   "metadata": {},
   "outputs": [
    {
     "name": "stdout",
     "output_type": "stream",
     "text": [
      "Thanks for connecting\n"
     ]
    }
   ],
   "source": [
    "#6\n",
    "#Client\n",
    "import socket\n",
    "c = socket.socket(socket.AF_INET,socket.SOCK_STREAM)\n",
    "c.connect(('127.0.0.1',12345))\n",
    "try:\n",
    "    print(c.recv(1024).decode())\n",
    "except:\n",
    "    print(\"Server not found\")\n",
    "c.close()"
   ]
  },
  {
   "cell_type": "code",
   "execution_count": 2,
   "id": "af68004d",
   "metadata": {},
   "outputs": [
    {
     "name": "stdout",
     "output_type": "stream",
     "text": [
      "Thanks for connecting\n"
     ]
    }
   ],
   "source": [
    "#7\n",
    "#Client\n",
    "import socket\n",
    "cli = socket.socket(socket.AF_INET,socket.SOCK_DGRAM)\n",
    "try:\n",
    "    cli.sendto(\"Hello Server\".encode(),('127.0.0.1',1234))\n",
    "    data,addr = cli.recvfrom(1024)\n",
    "    print(data.decode())\n",
    "except:\n",
    "    print(\"Error\")"
   ]
  },
  {
   "cell_type": "code",
   "execution_count": 3,
   "id": "1a814d6a",
   "metadata": {},
   "outputs": [
    {
     "name": "stdout",
     "output_type": "stream",
     "text": [
      "Thanks for connecting\n"
     ]
    }
   ],
   "source": [
    "#8\n",
    "#Client\n",
    "import socket\n",
    "c = socket.socket(socket.AF_INET,socket.SOCK_STREAM)\n",
    "c.connect(('127.0.0.1',12345))\n",
    "try:\n",
    "    print(c.recv(1024).decode())\n",
    "except:\n",
    "    print(\"Server not found\")\n",
    "c.close()"
   ]
  },
  {
   "cell_type": "code",
   "execution_count": 4,
   "id": "79f4d04e",
   "metadata": {},
   "outputs": [
    {
     "name": "stdout",
     "output_type": "stream",
     "text": [
      "Thanks for connecting\n"
     ]
    }
   ],
   "source": [
    "#9\n",
    "#Client\n",
    "import socket\n",
    "cli = socket.socket(socket.AF_INET,socket.SOCK_DGRAM)\n",
    "try:\n",
    "    cli.sendto(\"Hello Server\".encode(),('127.0.0.1',1234))\n",
    "    data,addr = cli.recvfrom(1024)\n",
    "    print(data.decode())\n",
    "except:\n",
    "    print(\"Error\")"
   ]
  }
 ],
 "metadata": {
  "kernelspec": {
   "display_name": "Python 3",
   "language": "python",
   "name": "python3"
  },
  "language_info": {
   "codemirror_mode": {
    "name": "ipython",
    "version": 3
   },
   "file_extension": ".py",
   "mimetype": "text/x-python",
   "name": "python",
   "nbconvert_exporter": "python",
   "pygments_lexer": "ipython3",
   "version": "3.8.8"
  }
 },
 "nbformat": 4,
 "nbformat_minor": 5
}
