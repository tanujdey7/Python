{
 "cells": [
  {
   "cell_type": "markdown",
   "id": "bc2e9a9f",
   "metadata": {},
   "source": [
    "## Computer Networks"
   ]
  },
  {
   "cell_type": "code",
   "execution_count": 2,
   "id": "c77c2286",
   "metadata": {},
   "outputs": [
    {
     "name": "stdout",
     "output_type": "stream",
     "text": [
      "LAPTOP-TANUJ7\n",
      "192.168.31.135\n"
     ]
    }
   ],
   "source": [
    "#1\n",
    "import socket\n",
    "local_host = socket.gethostname()\n",
    "local_ip = socket.gethostbyname(local_host)\n",
    "\n",
    "print(local_host)\n",
    "print(local_ip)"
   ]
  },
  {
   "cell_type": "code",
   "execution_count": 3,
   "id": "5550d936",
   "metadata": {},
   "outputs": [
    {
     "name": "stdout",
     "output_type": "stream",
     "text": [
      "142.250.183.100\n",
      "bom12s13-in-f4.1e100.net\n"
     ]
    }
   ],
   "source": [
    "#2\n",
    "print(socket.gethostbyname(\"www.google.com\"))\n",
    "print(socket.gethostbyaddr(socket.gethostbyname(\"www.google.com\"))[0])"
   ]
  },
  {
   "cell_type": "code",
   "execution_count": 4,
   "id": "7e508f7d",
   "metadata": {},
   "outputs": [
    {
     "name": "stdout",
     "output_type": "stream",
     "text": [
      "bom12s13-in-f4.1e100.net\n",
      "142.250.183.100\n"
     ]
    }
   ],
   "source": [
    "#3\n",
    "hostname = socket.gethostbyaddr(socket.gethostbyname(\"www.google.com\"))[0]\n",
    "print(hostname)\n",
    "print(socket.gethostbyname(hostname))"
   ]
  },
  {
   "cell_type": "code",
   "execution_count": 5,
   "id": "40de76c6",
   "metadata": {},
   "outputs": [
    {
     "name": "stdout",
     "output_type": "stream",
     "text": [
      "Open port 80\n",
      "Open port 135\n",
      "Open port 139\n",
      "Open port 443\n",
      "Open port 445\n",
      "Open port 3306\n",
      "Open port 5040\n",
      "Open port 7680\n",
      "Open port 9012\n",
      "Open port 9013\n",
      "Open port 49664\n",
      "Open port 49665\n",
      "Open port 49666\n",
      "Open port 49667\n",
      "Open port 49668\n",
      "Open port 49669\n",
      "Open port 49670\n",
      "Open port 49671\n",
      "Open port 49672\n",
      "Open port 55900\n",
      "Open port 55902\n",
      "Open port 55904\n",
      "Open port 55906\n",
      "Open port 55908\n",
      "Open port 55911\n",
      "Open port 56802\n",
      "Open port 63627\n"
     ]
    }
   ],
   "source": [
    "#4\n",
    "for port in range(65535):\n",
    "    try:\n",
    "        s = socket.socket(socket.AF_INET, socket.SOCK_STREAM)\n",
    "        s.bind((local_ip,port))\n",
    "    except:\n",
    "        print(\"Open port\",port)\n",
    "    s.close()"
   ]
  },
  {
   "cell_type": "code",
   "execution_count": 6,
   "id": "c18a75b3",
   "metadata": {},
   "outputs": [
    {
     "name": "stdout",
     "output_type": "stream",
     "text": [
      "Open port 137\n",
      "Open port 138\n",
      "Open port 1900\n",
      "Open port 5050\n",
      "Open port 5353\n",
      "Open port 5355\n",
      "Open port 49888\n",
      "Open port 50040\n",
      "Open port 52877\n",
      "Open port 54264\n",
      "Open port 60724\n",
      "Open port 61878\n",
      "Open port 63998\n"
     ]
    }
   ],
   "source": [
    "#5\n",
    "for port in range(65535):\n",
    "    try:\n",
    "        s = socket.socket(socket.AF_INET, socket.SOCK_DGRAM)\n",
    "        s.bind((local_ip,port))\n",
    "    except:\n",
    "        print(\"Open port\",port)\n",
    "    s.close()"
   ]
  },
  {
   "cell_type": "code",
   "execution_count": 7,
   "id": "01ba8bb9",
   "metadata": {},
   "outputs": [
    {
     "ename": "ConnectionRefusedError",
     "evalue": "[WinError 10061] No connection could be made because the target machine actively refused it",
     "output_type": "error",
     "traceback": [
      "\u001b[1;31m---------------------------------------------------------------------------\u001b[0m",
      "\u001b[1;31mConnectionRefusedError\u001b[0m                    Traceback (most recent call last)",
      "\u001b[1;32m<ipython-input-7-810d9a7b9db1>\u001b[0m in \u001b[0;36m<module>\u001b[1;34m\u001b[0m\n\u001b[0;32m      3\u001b[0m \u001b[1;32mimport\u001b[0m \u001b[0msocket\u001b[0m\u001b[1;33m\u001b[0m\u001b[1;33m\u001b[0m\u001b[0m\n\u001b[0;32m      4\u001b[0m \u001b[0mc\u001b[0m \u001b[1;33m=\u001b[0m \u001b[0msocket\u001b[0m\u001b[1;33m.\u001b[0m\u001b[0msocket\u001b[0m\u001b[1;33m(\u001b[0m\u001b[0msocket\u001b[0m\u001b[1;33m.\u001b[0m\u001b[0mAF_INET\u001b[0m\u001b[1;33m,\u001b[0m\u001b[0msocket\u001b[0m\u001b[1;33m.\u001b[0m\u001b[0mSOCK_STREAM\u001b[0m\u001b[1;33m)\u001b[0m\u001b[1;33m\u001b[0m\u001b[1;33m\u001b[0m\u001b[0m\n\u001b[1;32m----> 5\u001b[1;33m \u001b[0mc\u001b[0m\u001b[1;33m.\u001b[0m\u001b[0mconnect\u001b[0m\u001b[1;33m(\u001b[0m\u001b[1;33m(\u001b[0m\u001b[1;34m'127.0.0.1'\u001b[0m\u001b[1;33m,\u001b[0m\u001b[1;36m12345\u001b[0m\u001b[1;33m)\u001b[0m\u001b[1;33m)\u001b[0m\u001b[1;33m\u001b[0m\u001b[1;33m\u001b[0m\u001b[0m\n\u001b[0m\u001b[0;32m      6\u001b[0m \u001b[1;32mtry\u001b[0m\u001b[1;33m:\u001b[0m\u001b[1;33m\u001b[0m\u001b[1;33m\u001b[0m\u001b[0m\n\u001b[0;32m      7\u001b[0m     \u001b[0mprint\u001b[0m\u001b[1;33m(\u001b[0m\u001b[0mc\u001b[0m\u001b[1;33m.\u001b[0m\u001b[0mrecv\u001b[0m\u001b[1;33m(\u001b[0m\u001b[1;36m1024\u001b[0m\u001b[1;33m)\u001b[0m\u001b[1;33m.\u001b[0m\u001b[0mdecode\u001b[0m\u001b[1;33m(\u001b[0m\u001b[1;33m)\u001b[0m\u001b[1;33m)\u001b[0m\u001b[1;33m\u001b[0m\u001b[1;33m\u001b[0m\u001b[0m\n",
      "\u001b[1;31mConnectionRefusedError\u001b[0m: [WinError 10061] No connection could be made because the target machine actively refused it"
     ]
    }
   ],
   "source": [
    "#6\n",
    "#Client\n",
    "## Run this in other file\n",
    "import socket\n",
    "c = socket.socket(socket.AF_INET,socket.SOCK_STREAM)\n",
    "c.connect(('127.0.0.1',12345))\n",
    "try:\n",
    "    print(c.recv(1024).decode())\n",
    "except:\n",
    "    print(\"Server not found\")\n",
    "c.close()"
   ]
  },
  {
   "cell_type": "code",
   "execution_count": null,
   "id": "3f9a9f28",
   "metadata": {},
   "outputs": [],
   "source": [
    "#6\n",
    "#Server\n",
    "s = socket.socket(socket.AF_INET,socket.SOCK_STREAM)\n",
    "s.bind(('127.0.0.1',12345))\n",
    "s.listen(7)\n",
    "\n",
    "print(\"Server waiting for connection\")\n",
    "client_socket,addr = s.accept()\n",
    "print(\"IP Address:\",addr[0])\n",
    "print(\"Hostname\",socket.gethostbyaddr(addr[0])[0])\n",
    "print(\"Port Number:\",addr[1])\n",
    "try:\n",
    "    client_socket.send(\"Thanks for connecting\".encode())\n",
    "except:\n",
    "    print(\"Error\")\n",
    "client_socket.close()\n",
    "s.close()\n",
    "        \n",
    "    "
   ]
  },
  {
   "cell_type": "code",
   "execution_count": null,
   "id": "98f6bac9",
   "metadata": {},
   "outputs": [],
   "source": [
    "#7\n",
    "#Client\n",
    "## Run this in other file\n",
    "import socket\n",
    "cli = socket.socket(socket.AF_INET,socket.SOCK_DGRAM)\n",
    "try:\n",
    "    cli.sendto(\"Hello Server\".encode(),('127.0.0.1',1234))\n",
    "    data,addr = cli.recvfrom(1024)\n",
    "    print(data.decode())\n",
    "except:\n",
    "    print(\"Error\")"
   ]
  },
  {
   "cell_type": "code",
   "execution_count": 10,
   "id": "f901a7a4",
   "metadata": {},
   "outputs": [
    {
     "name": "stdout",
     "output_type": "stream",
     "text": [
      "UDP server up and listening\n",
      "Hello Server\n",
      "IP Address 127.0.0.1\n",
      "Hostname LAPTOP-TANUJ7\n",
      "Port Number 64530\n"
     ]
    }
   ],
   "source": [
    "#7\n",
    "#Server\n",
    "import socket\n",
    "serv = socket.socket(socket.AF_INET,socket.SOCK_DGRAM)\n",
    "serv.bind(('127.0.0.1', 1234))\n",
    "print(\"Server waiting for connection\")\n",
    "try:\n",
    "    data,addr = serv.recvfrom(1024)\n",
    "    print(data.decode())\n",
    "    print(\"IP Address\",addr[0])\n",
    "    print(\"Hostname\",socket.gethostbyaddr(addr[0])[0]);\n",
    "    print(\"Port Number\",addr[1])\n",
    "    serv.sendto(\"Thanks for connecting\".encode(), addr)\n",
    "except:\n",
    "    print(\"Error\")"
   ]
  },
  {
   "cell_type": "code",
   "execution_count": null,
   "id": "47502fd9",
   "metadata": {},
   "outputs": [],
   "source": [
    "#8\n",
    "#Client\n",
    "## Run this in other file\n",
    "import socket\n",
    "c = socket.socket(socket.AF_INET,socket.SOCK_STREAM)\n",
    "c.connect(('127.0.0.1',12345))\n",
    "try:\n",
    "    print(c.recv(1024).decode())\n",
    "except:\n",
    "    print(\"Server not found\")\n",
    "c.close()"
   ]
  },
  {
   "cell_type": "code",
   "execution_count": 19,
   "id": "8e498ba0",
   "metadata": {},
   "outputs": [
    {
     "name": "stdout",
     "output_type": "stream",
     "text": [
      "Server waiting for connection\n",
      "Done\n"
     ]
    }
   ],
   "source": [
    "#8\n",
    "s = socket.socket(socket.AF_INET,socket.SOCK_STREAM)\n",
    "s.bind(('127.0.0.1',12345))\n",
    "s.listen(7)\n",
    "\n",
    "print(\"Server waiting for connection\")\n",
    "try:\n",
    "    client_socket,addr = s.accept()\n",
    "    client_socket.send(\"Thanks for connecting\".encode())\n",
    "except:\n",
    "    print(\"Error\")\n",
    "client_socket.close()\n",
    "s.close()\n",
    "print(\"Done\")"
   ]
  },
  {
   "cell_type": "code",
   "execution_count": null,
   "id": "718356a8",
   "metadata": {},
   "outputs": [],
   "source": [
    "#9\n",
    "#Client\n",
    "## Run this in other file\n",
    "import socket\n",
    "cli = socket.socket(socket.AF_INET,socket.SOCK_DGRAM)\n",
    "try:\n",
    "    cli.sendto(\"Hello Server\".encode(),('127.0.0.1',1234))\n",
    "    data,addr = cli.recvfrom(1024)\n",
    "    print(data.decode())\n",
    "except:\n",
    "    print(\"Error\")"
   ]
  },
  {
   "cell_type": "code",
   "execution_count": 23,
   "id": "52804691",
   "metadata": {},
   "outputs": [
    {
     "name": "stdout",
     "output_type": "stream",
     "text": [
      "Server waiting for connection\n",
      "Done\n"
     ]
    }
   ],
   "source": [
    "#9\n",
    "#Server\n",
    "import socket\n",
    "serv = socket.socket(socket.AF_INET,socket.SOCK_DGRAM)\n",
    "serv.bind(('127.0.0.1', 1234))\n",
    "print(\"Server waiting for connection\")\n",
    "try:\n",
    "    data,addr = serv.recvfrom(1024)\n",
    "    serv.sendto(\"Thanks for connecting\".encode(), addr)\n",
    "except:\n",
    "    print(\"Error\")\n",
    "print(\"Done\")"
   ]
  }
 ],
 "metadata": {
  "kernelspec": {
   "display_name": "Python 3",
   "language": "python",
   "name": "python3"
  },
  "language_info": {
   "codemirror_mode": {
    "name": "ipython",
    "version": 3
   },
   "file_extension": ".py",
   "mimetype": "text/x-python",
   "name": "python",
   "nbconvert_exporter": "python",
   "pygments_lexer": "ipython3",
   "version": "3.8.8"
  }
 },
 "nbformat": 4,
 "nbformat_minor": 5
}
