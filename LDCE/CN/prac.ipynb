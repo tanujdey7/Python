{
 "cells": [
  {
   "cell_type": "markdown",
   "id": "171b7414",
   "metadata": {},
   "source": [
    "# Computer Networks\n",
    "## LDCE, GTU \n",
    "https://s3-ap-southeast-1.amazonaws.com/gtusitecirculars/Syallbus/629404.pdf"
   ]
  },
  {
   "cell_type": "code",
   "execution_count": null,
   "id": "ccd1e2c7",
   "metadata": {},
   "outputs": [],
   "source": [
    "#1\n",
    "import socket\n",
    "local_host = socket.gethostname()\n",
    "local_ip = socket.gethostbyname(local_host)\n",
    "\n",
    "print(local_host)\n",
    "print(local_ip)"
   ]
  },
  {
   "cell_type": "code",
   "execution_count": null,
   "id": "dc40963f",
   "metadata": {},
   "outputs": [],
   "source": [
    "#2\n",
    "print(socket.gethostbyname(\"www.google.com\"))\n",
    "print(socket.gethostbyaddr(socket.gethostbyname(\"www.google.com\"))[0])"
   ]
  },
  {
   "cell_type": "code",
   "execution_count": null,
   "id": "e2dd61c1",
   "metadata": {},
   "outputs": [],
   "source": [
    "#3\n",
    "hostname = socket.gethostbyaddr(socket.gethostbyname(\"www.google.com\"))[0]\n",
    "print(hostname)\n",
    "print(socket.gethostbyname(hostname))"
   ]
  },
  {
   "cell_type": "code",
   "execution_count": null,
   "id": "4ea415dc",
   "metadata": {},
   "outputs": [],
   "source": [
    "#4\n",
    "for port in range(65535):\n",
    "    try:\n",
    "        s = socket.socket(socket.AF_INET, socket.SOCK_STREAM)\n",
    "        s.bind((local_ip,port))\n",
    "    except:\n",
    "        print(\"Open port\",port)\n",
    "    s.close()"
   ]
  },
  {
   "cell_type": "code",
   "execution_count": null,
   "id": "26dccedf",
   "metadata": {},
   "outputs": [],
   "source": [
    "#5\n",
    "for port in range(65535):\n",
    "    try:\n",
    "        s = socket.socket(socket.AF_INET, socket.SOCK_DGRAM)\n",
    "        s.bind((local_ip,port))\n",
    "    except:\n",
    "        print(\"Open port\",port)\n",
    "    s.close()"
   ]
  },
  {
   "cell_type": "code",
   "execution_count": null,
   "id": "1b532aed",
   "metadata": {},
   "outputs": [],
   "source": [
    "#6\n",
    "#Server\n",
    "s = socket.socket(socket.AF_INET,socket.SOCK_STREAM)\n",
    "s.bind(('127.0.0.1',12345))\n",
    "s.listen(7)\n",
    "\n",
    "print(\"Server waiting for connection\")\n",
    "client_socket,addr = s.accept()\n",
    "print(\"IP Address:\",addr[0])\n",
    "print(\"Hostname\",socket.gethostbyaddr(addr[0])[0])\n",
    "print(\"Port Number:\",addr[1])\n",
    "try:\n",
    "    client_socket.send(\"Thanks for connecting\".encode())\n",
    "except:\n",
    "    print(\"Error\")\n",
    "client_socket.close()\n",
    "s.close()\n",
    "        \n",
    "    "
   ]
  },
  {
   "cell_type": "code",
   "execution_count": null,
   "id": "e8ef4813",
   "metadata": {},
   "outputs": [],
   "source": [
    "#7\n",
    "#Server\n",
    "import socket\n",
    "serv = socket.socket(socket.AF_INET,socket.SOCK_DGRAM)\n",
    "serv.bind(('127.0.0.1', 1234))\n",
    "print(\"Server waiting for connection\")\n",
    "try:\n",
    "    data,addr = serv.recvfrom(1024)\n",
    "    print(data.decode())\n",
    "    print(\"IP Address\",addr[0])\n",
    "    print(\"Hostname\",socket.gethostbyaddr(addr[0])[0]);\n",
    "    print(\"Port Number\",addr[1])\n",
    "    serv.sendto(\"Thanks for connecting\".encode(), addr)\n",
    "except:\n",
    "    print(\"Error\")"
   ]
  },
  {
   "cell_type": "code",
   "execution_count": null,
   "id": "1ff0ab0c",
   "metadata": {},
   "outputs": [],
   "source": [
    "#8\n",
    "#Server\n",
    "s = socket.socket(socket.AF_INET,socket.SOCK_STREAM)\n",
    "s.bind(('127.0.0.1',12345))\n",
    "s.listen(7)\n",
    "\n",
    "print(\"Server waiting for connection\")\n",
    "try:\n",
    "    client_socket,addr = s.accept()\n",
    "    client_socket.send(\"Thanks for connecting\".encode())\n",
    "except:\n",
    "    print(\"Error\")\n",
    "client_socket.close()\n",
    "s.close()\n",
    "print(\"Done\")"
   ]
  },
  {
   "cell_type": "code",
   "execution_count": null,
   "id": "a0d9aab7",
   "metadata": {
    "scrolled": true
   },
   "outputs": [],
   "source": [
    "#9\n",
    "#Server\n",
    "import socket\n",
    "serv = socket.socket(socket.AF_INET,socket.SOCK_DGRAM)\n",
    "serv.bind(('127.0.0.1', 1234))\n",
    "print(\"Server waiting for connection\")\n",
    "try:\n",
    "    data,addr = serv.recvfrom(1024)\n",
    "    serv.sendto(\"Thanks for connecting\".encode(), addr)\n",
    "except:\n",
    "    print(\"Error\")\n",
    "print(\"Done\")"
   ]
  },
  {
   "cell_type": "code",
   "execution_count": null,
   "id": "0b6dd9f3",
   "metadata": {},
   "outputs": [],
   "source": [
    "#10\n",
    "#Server\n",
    "import socket\n",
    "from datetime import datetime\n",
    "s = socket.socket(socket.AF_INET, socket.SOCK_STREAM)\n",
    "s.bind(('127.0.0.1', 1234))\n",
    "s.listen()\n",
    "conn, addr = s.accept()\n",
    "with conn:\n",
    "    print('Connected by', addr[0])\n",
    "    while True:\n",
    "        data = conn.recv(1024)\n",
    "        if not data:\n",
    "            break\n",
    "        conn.send(data)\n",
    "        time=datetime.now()\n",
    "        time=str(time)\n",
    "        conn.sendall(bytes(time,'utf-8'))\n"
   ]
  },
  {
   "cell_type": "code",
   "execution_count": null,
   "id": "41811934",
   "metadata": {},
   "outputs": [],
   "source": [
    "#11\n",
    "#Server\n",
    "import socket\n",
    "from datetime import datetime\n",
    "serv = socket.socket(socket.AF_INET, socket.SOCK_DGRAM)\n",
    "serv.bind(('127.0.0.1', 1234))\n",
    "\n",
    "m = serv.recvfrom(1024)\n",
    "message = m[0]\n",
    "address = m[1]\n",
    "\n",
    "time=datetime.now()\n",
    "time=str(time)\n",
    "time=str.encode(time)\n",
    "serv.sendto(time, address)"
   ]
  },
  {
   "cell_type": "code",
   "execution_count": null,
   "id": "d2b207a6",
   "metadata": {},
   "outputs": [],
   "source": [
    "#12\n",
    "#Server\n",
    "import socket\n",
    "def server_program():\n",
    "    host = socket.gethostname()\n",
    "    port = 5000\n",
    "    server_socket = socket.socket()\n",
    "    server_socket.bind((host, port))\n",
    "    server_socket.listen(2)\n",
    "    conn, address = server_socket.accept() \n",
    "    print(\"Connection from: \" + str(address))\n",
    "    while True:\n",
    "        data = conn.recv(1024).decode()\n",
    "        if not data:\n",
    "            break\n",
    "        print(\"from connected user: \" + str(data))\n",
    "        data = input(' - ')\n",
    "        conn.send(data.encode())\n",
    "    conn.close()\n",
    "    \n",
    "if __name__ == '__main__':\n",
    "    server_program()"
   ]
  },
  {
   "cell_type": "code",
   "execution_count": null,
   "id": "80245bb2",
   "metadata": {
    "scrolled": true
   },
   "outputs": [],
   "source": [
    "#13\n",
    "#Server\n",
    "import socket \n",
    "msgFromServer = \"Start chat\"\n",
    "bytesToSend = str.encode(msgFromServer)\n",
    "serv = socket.socket(socket.AF_INET, socket.SOCK_DGRAM)\n",
    "serv.bind(('127.0.0.1', 1234))\n",
    "\n",
    "print(\"UDP server up and listening\")\n",
    "while True:\n",
    "    bytesAddressPair = serv.recvfrom(1024)\n",
    "    address = bytesAddressPair[1]\n",
    "    clientMsg = format(bytesAddressPair[0])\n",
    "    print(clientMsg)\n",
    "    message=input(' - ')\n",
    "    bytesToSend = str.encode(message)\n",
    "    serv.sendto(bytesToSend, address)\n"
   ]
  },
  {
   "cell_type": "code",
   "execution_count": null,
   "id": "ececcbb4",
   "metadata": {},
   "outputs": [],
   "source": [
    "#14\n",
    "#Server\n",
    "import socket\n",
    "from _thread import *\n",
    "import threading\n",
    "print_lock = threading.Lock()\n",
    "def threaded(c):\n",
    "    while True:\n",
    "        data = c.recv(1024)\n",
    "        if not data:\n",
    "            print('Bye')\n",
    "            print_lock.release()\n",
    "            break\n",
    "        data = data[::-1]\n",
    "        c.send(data)\n",
    "    c.close()\n",
    "def Main():\n",
    "    s = socket.socket(socket.AF_INET, socket.SOCK_STREAM)\n",
    "    s.bind(('127.0.0.1', 1234))\n",
    "    print(\"socket binded to port\", 1234)\n",
    "    s.listen(5)\n",
    "    print(\"socket is listening\")\n",
    "    while True:\n",
    "        c, addr = s.accept()\n",
    "        print_lock.acquire()\n",
    "        print('Connected to :', addr[0], ':', addr[1])\n",
    "        start_new_thread(threaded, (c,))\n",
    "    s.close()\n",
    "if __name__ == '__main__':\n",
    "    Main()\n"
   ]
  },
  {
   "cell_type": "code",
   "execution_count": null,
   "id": "314277e4",
   "metadata": {},
   "outputs": [],
   "source": []
  },
  {
   "cell_type": "code",
   "execution_count": null,
   "id": "96ea8573",
   "metadata": {},
   "outputs": [],
   "source": [
    "#16\n",
    "import urllib.request\n",
    "from http import HTTPStatus\n",
    "url=\"http://google.com\"\n",
    "with urllib.request.urlopen(url) as response:\n",
    "    print(\"HTML code: \\n\",response.read())\n",
    "    print(\"URL: \",url)\n",
    "    print(\"Headers: \",response.headers)\n",
    "    print(\"Status code:\", HTTPStatus.OK.value)\n"
   ]
  },
  {
   "cell_type": "code",
   "execution_count": null,
   "id": "b1a9d528",
   "metadata": {},
   "outputs": [],
   "source": [
    "#17\n",
    "import ftplib\n",
    "hostname='ftp.dlptest.com'\n",
    "username='dlpuser'\n",
    "password='rNrKYTX9g7z3RgJRmxWuGHbeu'\n",
    "ftp_server=ftplib.FTP(hostname,username,password)\n",
    "ftp_server.encoding='utf-8'\n",
    "filename=\"test.txt\"\n",
    "with open(filename,'rb') as file:\n",
    "    ftp_server.storbinary(f\"STOR {filename}\",file)\n",
    "    ftp_server.dir()\n",
    "with open(filename,'wb') as file:\n",
    "    ftp_server.retrbinary(f\"RETR {filename}\", file.write)"
   ]
  },
  {
   "cell_type": "code",
   "execution_count": 1,
   "id": "7bde7a2e",
   "metadata": {},
   "outputs": [
    {
     "name": "stdout",
     "output_type": "stream",
     "text": [
      "<!doctype html><html itemscope=\"\" itemtype=\"http://schema.org/WebPage\" lang=\"en-IN\"><head><meta content=\"text/html; charset=UTF-8\" http-equiv=\"Content-Type\"><meta content=\"/logos/doodles/2021/doodle-champion-island-games-july-29-6753651837109022-l.png\" itemprop=\"image\"><meta content=\"Doodle Champion Island Games!\" property=\"twitter:title\"><meta content=\"Feline up for a challenge? Help Lucky claim victory in the Doodle Champion Island Games! #GoogleDoodle\" property=\"twitter:description\"><meta content=\"Feline up for a challenge? Help Lucky claim victory in the Doodle Champion Island Games! #GoogleDoodle\" property=\"og:description\"><meta content=\"summary_large_image\" property=\"twitter:card\"><meta content=\"@GoogleDoodles\" property=\"twitter:site\"><meta content=\"https://www.google.com/logos/doodles/2021/doodle-champion-island-games-july-29-6753651837109022-2xa.gif\" property=\"twitter:image\"><meta content=\"https://www.google.com/logos/doodles/2021/doodle-champion-island-games-july-29-6753651837109022-2xa.gif\" property=\"og:image\"><meta content=\"644\" property=\"og:image:width\"><meta content=\"392\" property=\"og:image:height\"><meta content=\"https://www.google.com/logos/doodles/2021/doodle-champion-island-games-july-29-6753651837109022-2xa.gif\" property=\"og:url\"><meta content=\"video.other\" property=\"og:type\"><title>Google</title><script nonce=\"0CPPJ0EpObr0XWFfjQJRPw==\">(function(){window.google={kEI:'i9kCYf-KC42ioAS106HICw',kEXPI:'0,772215,1,530320,56873,954,756,4349,206,4804,925,1391,383,246,5,304,1050,5250,1122516,1197757,526,328984,51223,16115,17444,11240,17572,4858,1362,283,9007,3021,3897,13691,4020,978,13228,3847,4192,6430,1141,6291,1221,5875,4517,2777,919,1832,3249,1593,1279,2212,530,149,1103,840,6297,3514,606,2023,1777,520,14671,3226,2845,7,5599,6755,5096,7877,5036,3407,908,2,941,2614,13142,3,346,230,1014,1,5444,149,11323,2652,4,1253,275,2304,1236,5227,576,74,1983,2627,2014,4067,2506,4548,380,2110,1714,3050,2658,4242,3115,30,13628,2306,637,1494,5586,7820,2715,665,5830,2527,4097,3135,8,906,3,3541,1,14713,1811,283,912,5992,12526,2,1394,1414,2,109,8,1275,1713,2,3057,2538,2,1,3,3004,20,1214,3,33,3,5406,3,72,594,784,254,56,3,435,2377,1806,488,130,1274,4578,2051,1646,3586,1420,718,2,1040,1160,1269,1235,1599,592,2,1711,291,1720,661,1574,1144,3453,2,28,1063,3,125,3921,685,742,13,1448,86,3088,586,463,2555,2,2,5,985,1295,120,395,641,1359,124,900,1174,32,306,335,88,554,57,478,33,293,359,16,142,190,569,321,94,841,354,212,55,1384,2961,1352,561,586,1064,16,441,925,164,1219,636,105,211,143,614,507,352,1074,178,241,2,5,158,229,293,1379,5,12,792,414,223,2,1458,5603307,226,220,59,1,1802829,4193459,520,150,2800547,882,444,1,2,80,1,1797,2,7,2,2551,1,748,141,795,563,1,4265,1,1,2,1331,3299,843,2609,155,17,13,72,139,4,2,20,2,169,13,19,46,5,39,96,548,29,2,2,1,2,1,2,2,7,4,1,2,2,2,2,2,2,353,513,186,1,1,158,3,2,2,2,2,2,4,2,3,3,235,34,10,57,15,11,8,20734601,2920155,299865,4039038,7,2307,338,3,1454,960,1074,5,117,1590,261,1396',kBL:'llBy'};google.sn='webhp';google.kHL='en-IN';})();(function(){\n",
      "var f=this||self;var h,k=[];function l(a){for(var b;a&&(!a.getAttribute||!(b=a.getAttribute(\"eid\")));)a=a.parentNode;return b||h}function m(a){for(var b=null;a&&(!a.getAttribute||!(b=a.getAttribute(\"leid\")));)a=a.parentNode;return b}\n",
      "function n(a,b,c,d,g){var e=\"\";c||-1!==b.search(\"&ei=\")||(e=\"&ei=\"+l(d),-1===b.search(\"&lei=\")&&(d=m(d))&&(e+=\"&lei=\"+d));d=\"\";!c&&f._cshid&&-1===b.search(\"&cshid=\")&&\"slh\"!==a&&(d=\"&cshid=\"+f._cshid);c=c||\"/\"+(g||\"gen_204\")+\"?atyp=i&ct=\"+a+\"&cad=\"+b+e+\"&zx=\"+Date.now()+d;/^http:/i.test(c)&&\"https:\"===window.location.protocol&&(google.ml&&google.ml(Error(\"a\"),!1,{src:c,glmm:1}),c=\"\");return c};h=google.kEI;google.getEI=l;google.getLEI=m;google.ml=function(){return null};google.log=function(a,b,c,d,g){if(c=n(a,b,c,d,g)){a=new Image;var e=k.length;k[e]=a;a.onerror=a.onload=a.onabort=function(){delete k[e]};a.src=c}};google.logUrl=n;}).call(this);(function(){\n",
      "google.y={};google.sy=[];google.x=function(a,b){if(a)var c=a.id;else{do c=Math.random();while(google.y[c])}google.y[c]=[a,b];return!1};google.sx=function(a){google.sy.push(a)};google.lm=[];google.plm=function(a){google.lm.push.apply(google.lm,a)};google.lq=[];google.load=function(a,b,c){google.lq.push([[a],b,c])};google.loadAll=function(a,b){google.lq.push([a,b])};google.bx=!1;google.lx=function(){};}).call(this);google.f={};(function(){\n",
      "document.documentElement.addEventListener(\"submit\",function(b){var a;if(a=b.target){var c=a.getAttribute(\"data-submitfalse\");a=\"1\"==c||\"q\"==c&&!a.elements.q.value?!0:!1}else a=!1;a&&(b.preventDefault(),b.stopPropagation())},!0);document.documentElement.addEventListener(\"click\",function(b){var a;a:{for(a=b.target;a&&a!=document.documentElement;a=a.parentElement)if(\"A\"==a.tagName){a=\"1\"==a.getAttribute(\"data-nohref\");break a}a=!1}a&&b.preventDefault()},!0);}).call(this);</script><style>#gbar,#guser{font-size:13px;padding-top:1px !important;}#gbar{height:22px}#guser{padding-bottom:7px !important;text-align:right}.gbh,.gbd{border-top:1px solid #c9d7f1;font-size:1px}.gbh{height:0;position:absolute;top:24px;width:100%}@media all{.gb1{height:22px;margin-right:.5em;vertical-align:top}#gbar{float:left}}a.gb1,a.gb4{text-decoration:underline !important}a.gb1,a.gb4{color:#00c !important}.gbi .gb4{color:#dd8e27 !important}.gbf .gb4{color:#900 !important}\n",
      "</style><style>body,td,a,p,.h{font-family:arial,sans-serif}body{margin:0;overflow-y:scroll}#gog{padding:3px 8px 0}td{line-height:.8em}.gac_m td{line-height:17px}form{margin-bottom:20px}.h{color:#1558d6}em{font-weight:bold;font-style:normal}.lst{height:25px;width:496px}.gsfi,.lst{font:18px arial,sans-serif}.gsfs{font:17px arial,sans-serif}.ds{display:inline-box;display:inline-block;margin:3px 0 4px;margin-left:4px}input{font-family:inherit}body{background:#fff;color:#000}a{color:#4b11a8;text-decoration:none}a:hover,a:active{text-decoration:underline}.fl a{color:#1558d6}a:visited{color:#4b11a8}.sblc{padding-top:5px}.sblc a{display:block;margin:2px 0;margin-left:13px;font-size:11px}.lsbb{background:#f8f9fa;border:solid 1px;border-color:#dadce0 #70757a #70757a #dadce0;height:30px}.lsbb{display:block}#WqQANb a{display:inline-block;margin:0 12px}.lsb{background:url(/images/nav_logo229.png) 0 -261px repeat-x;border:none;color:#000;cursor:pointer;height:30px;margin:0;outline:0;font:15px arial,sans-serif;vertical-align:top}.lsb:active{background:#dadce0}.lst:focus{outline:none}</style><script nonce=\"0CPPJ0EpObr0XWFfjQJRPw==\"></script></head><body bgcolor=\"#fff\"><script nonce=\"0CPPJ0EpObr0XWFfjQJRPw==\">(function(){var src='/images/nav_logo229.png';var iesg=false;document.body.onload = function(){window.n && window.n();if (document.images){new Image().src=src;}\n",
      "if (!iesg){document.f&&document.f.q.focus();document.gbqf&&document.gbqf.q.focus();}\n",
      "}\n",
      "})();</script><div id=\"mngb\"><div id=gbar><nobr><b class=gb1>Search</b> <a class=gb1 href=\"https://www.google.co.in/imghp?hl=en&tab=wi\">Images</a> <a class=gb1 href=\"https://maps.google.co.in/maps?hl=en&tab=wl\">Maps</a> <a class=gb1 href=\"https://play.google.com/?hl=en&tab=w8\">Play</a> <a class=gb1 href=\"https://www.youtube.com/?gl=IN&tab=w1\">YouTube</a> <a class=gb1 href=\"https://news.google.com/?tab=wn\">News</a> <a class=gb1 href=\"https://mail.google.com/mail/?tab=wm\">Gmail</a> <a class=gb1 href=\"https://drive.google.com/?tab=wo\">Drive</a> <a class=gb1 style=\"text-decoration:none\" href=\"https://www.google.co.in/intl/en/about/products?tab=wh\"><u>More</u> &raquo;</a></nobr></div><div id=guser width=100%><nobr><span id=gbn class=gbi></span><span id=gbf class=gbf></span><span id=gbe></span><a href=\"http://www.google.co.in/history/optout?hl=en\" class=gb4>Web History</a> | <a  href=\"/preferences?hl=en\" class=gb4>Settings</a> | <a target=_top id=gb_70 href=\"https://accounts.google.com/ServiceLogin?hl=en&passive=true&continue=https://www.google.com/&ec=GAZAAQ\" class=gb4>Sign in</a></nobr></div><div class=gbh style=left:0></div><div class=gbh style=right:0></div></div><center><br clear=\"all\" id=\"lgpd\"><div id=\"lga\"><a href=\"/search?ie=UTF-8&amp;q=Olympics&amp;oi=ddle&amp;ct=174787997&amp;hl=en-GB&amp;kgmid=/m/05gj2h&amp;sa=X&amp;ved=0ahUKEwi__M_f24jyAhUNEYgKHbVpCLkQPQgD\"><img alt=\"Doodle Champion Island Games!\" border=\"0\" height=\"196\" src=\"/logos/doodles/2021/doodle-champion-island-games-july-29-6753651837109022-l.png\" title=\"Doodle Champion Island Games!\" width=\"322\" id=\"hplogo\"><br></a><br></div><form action=\"/search\" name=\"f\"><table cellpadding=\"0\" cellspacing=\"0\"><tr valign=\"top\"><td width=\"25%\">&nbsp;</td><td align=\"center\" nowrap=\"\"><input name=\"ie\" value=\"ISO-8859-1\" type=\"hidden\"><input value=\"en-IN\" name=\"hl\" type=\"hidden\"><input name=\"source\" type=\"hidden\" value=\"hp\"><input name=\"biw\" type=\"hidden\"><input name=\"bih\" type=\"hidden\"><div class=\"ds\" style=\"height:32px;margin:4px 0\"><input class=\"lst\" style=\"margin:0;padding:5px 8px 0 6px;vertical-align:top;color:#000\" autocomplete=\"off\" value=\"\" title=\"Google Search\" maxlength=\"2048\" name=\"q\" size=\"57\"></div><br style=\"line-height:0\"><span class=\"ds\"><span class=\"lsbb\"><input class=\"lsb\" value=\"Google Search\" name=\"btnG\" type=\"submit\"></span></span><span class=\"ds\"><span class=\"lsbb\"><input class=\"lsb\" id=\"tsuid1\" value=\"I'm Feeling Lucky\" name=\"btnI\" type=\"submit\"><script nonce=\"0CPPJ0EpObr0XWFfjQJRPw==\">(function(){var id='tsuid1';document.getElementById(id).onclick = function(){if (this.form.q.value){this.checked = 1;if (this.form.iflsig)this.form.iflsig.disabled = false;}\n",
      "else top.location='/doodles/';};})();</script><input value=\"AINFCbYAAAAAYQLnm-jx2AgQX8O8eQXMLFN-ogDgtupu\" name=\"iflsig\" type=\"hidden\"></span></span></td><td class=\"fl sblc\" align=\"left\" nowrap=\"\" width=\"25%\"><a href=\"/advanced_search?hl=en-IN&amp;authuser=0\">Advanced search</a></td></tr></table><input id=\"gbv\" name=\"gbv\" type=\"hidden\" value=\"1\"><script nonce=\"0CPPJ0EpObr0XWFfjQJRPw==\">(function(){\n",
      "var a,b=\"1\";if(document&&document.getElementById)if(\"undefined\"!=typeof XMLHttpRequest)b=\"2\";else if(\"undefined\"!=typeof ActiveXObject){var c,d,e=[\"MSXML2.XMLHTTP.6.0\",\"MSXML2.XMLHTTP.3.0\",\"MSXML2.XMLHTTP\",\"Microsoft.XMLHTTP\"];for(c=0;d=e[c++];)try{new ActiveXObject(d),b=\"2\"}catch(h){}}a=b;if(\"2\"==a&&-1==location.search.indexOf(\"&gbv=2\")){var f=google.gbvu,g=document.getElementById(\"gbv\");g&&(g.value=a);f&&window.setTimeout(function(){location.href=f},0)};}).call(this);</script></form><div id=\"gac_scont\"></div><div style=\"font-size:83%;min-height:3.5em\"><br><div id=\"gws-output-pages-elements-homepage_additional_languages__als\"><style>#gws-output-pages-elements-homepage_additional_languages__als{font-size:small;margin-bottom:24px}#SIvCob{color:#3c4043;display:inline-block;line-height:28px;}#SIvCob a{padding:0 3px;}.H6sW5{display:inline-block;margin:0 2px;white-space:nowrap}.z4hgWe{display:inline-block;margin:0 2px}</style><div id=\"SIvCob\">Google offered in:  <a href=\"https://www.google.com/setprefs?sig=0__U1yvL0suEQVY3wSrUvs97GpfXk%3D&amp;hl=hi&amp;source=homepage&amp;sa=X&amp;ved=0ahUKEwi__M_f24jyAhUNEYgKHbVpCLkQ2ZgBCAU\">&#2361;&#2367;&#2344;&#2381;&#2342;&#2368;</a>    <a href=\"https://www.google.com/setprefs?sig=0__U1yvL0suEQVY3wSrUvs97GpfXk%3D&amp;hl=bn&amp;source=homepage&amp;sa=X&amp;ved=0ahUKEwi__M_f24jyAhUNEYgKHbVpCLkQ2ZgBCAY\">&#2476;&#2494;&#2434;&#2482;&#2494;</a>    <a href=\"https://www.google.com/setprefs?sig=0__U1yvL0suEQVY3wSrUvs97GpfXk%3D&amp;hl=te&amp;source=homepage&amp;sa=X&amp;ved=0ahUKEwi__M_f24jyAhUNEYgKHbVpCLkQ2ZgBCAc\">&#3108;&#3142;&#3122;&#3137;&#3095;&#3137;</a>    <a href=\"https://www.google.com/setprefs?sig=0__U1yvL0suEQVY3wSrUvs97GpfXk%3D&amp;hl=mr&amp;source=homepage&amp;sa=X&amp;ved=0ahUKEwi__M_f24jyAhUNEYgKHbVpCLkQ2ZgBCAg\">&#2350;&#2352;&#2366;&#2336;&#2368;</a>    <a href=\"https://www.google.com/setprefs?sig=0__U1yvL0suEQVY3wSrUvs97GpfXk%3D&amp;hl=ta&amp;source=homepage&amp;sa=X&amp;ved=0ahUKEwi__M_f24jyAhUNEYgKHbVpCLkQ2ZgBCAk\">&#2980;&#2990;&#3007;&#2996;&#3021;</a>    <a href=\"https://www.google.com/setprefs?sig=0__U1yvL0suEQVY3wSrUvs97GpfXk%3D&amp;hl=gu&amp;source=homepage&amp;sa=X&amp;ved=0ahUKEwi__M_f24jyAhUNEYgKHbVpCLkQ2ZgBCAo\">&#2711;&#2753;&#2716;&#2736;&#2750;&#2724;&#2752;</a>    <a href=\"https://www.google.com/setprefs?sig=0__U1yvL0suEQVY3wSrUvs97GpfXk%3D&amp;hl=kn&amp;source=homepage&amp;sa=X&amp;ved=0ahUKEwi__M_f24jyAhUNEYgKHbVpCLkQ2ZgBCAs\">&#3221;&#3240;&#3277;&#3240;&#3233;</a>    <a href=\"https://www.google.com/setprefs?sig=0__U1yvL0suEQVY3wSrUvs97GpfXk%3D&amp;hl=ml&amp;source=homepage&amp;sa=X&amp;ved=0ahUKEwi__M_f24jyAhUNEYgKHbVpCLkQ2ZgBCAw\">&#3374;&#3378;&#3375;&#3390;&#3379;&#3330;</a>    <a href=\"https://www.google.com/setprefs?sig=0__U1yvL0suEQVY3wSrUvs97GpfXk%3D&amp;hl=pa&amp;source=homepage&amp;sa=X&amp;ved=0ahUKEwi__M_f24jyAhUNEYgKHbVpCLkQ2ZgBCA0\">&#2602;&#2672;&#2588;&#2622;&#2604;&#2624;</a>  </div></div></div><span id=\"footer\"><div style=\"font-size:10pt\"><div style=\"margin:19px auto;text-align:center\" id=\"WqQANb\"><a href=\"/intl/en/ads/\">Advertising Programs</a><a href=\"http://www.google.co.in/services/\">Business Solutions</a><a href=\"/intl/en/about.html\">About Google</a><a href=\"https://www.google.com/setprefdomain?prefdom=IN&amp;prev=https://www.google.co.in/&amp;sig=K_XN8gJHXM0rDR5lhQMqD5WGWB1no%3D\">Google.co.in</a></div></div><p style=\"font-size:8pt;color:#70757a\">&copy; 2021 - <a href=\"/intl/en/policies/privacy/\">Privacy</a> - <a href=\"/intl/en/policies/terms/\">Terms</a></p></span></center><script nonce=\"0CPPJ0EpObr0XWFfjQJRPw==\">(function(){window.google.cdo={height:757,width:1440};(function(){\n",
      "var a=window.innerWidth,b=window.innerHeight;if(!a||!b){var c=window.document,d=\"CSS1Compat\"==c.compatMode?c.documentElement:c.body;a=d.clientWidth;b=d.clientHeight}a&&b&&(a!=google.cdo.width||b!=google.cdo.height)&&google.log(\"\",\"\",\"/client_204?&atyp=i&biw=\"+a+\"&bih=\"+b+\"&ei=\"+google.kEI);}).call(this);})();</script> <script nonce=\"0CPPJ0EpObr0XWFfjQJRPw==\">(function(){google.xjs={ck:'',cs:'',excm:[],pml:false};})();</script>  <script nonce=\"0CPPJ0EpObr0XWFfjQJRPw==\">(function(){var u='/xjs/_/js/k\\x3dxjs.hp.en.qbeEE0-Agks.O/m\\x3dsb_he,d/am\\x3dAPgEWA/d\\x3d1/ed\\x3d1/rs\\x3dACT90oHUnOPEk0RrJsDhJiYYAaZExFLRvQ';\n",
      "var e=this||self,f=function(a){return a};var g;var l=function(a,b){this.g=b===h?a:\"\"};l.prototype.toString=function(){return this.g+\"\"};var h={};function m(){var a=u;google.lx=function(){n(a);google.lx=function(){}};google.bx||google.lx()}\n",
      "function n(a){google.timers&&google.timers.load&&google.tick&&google.tick(\"load\",\"xjsls\");var b=document;var c=\"SCRIPT\";\"application/xhtml+xml\"===b.contentType&&(c=c.toLowerCase());c=b.createElement(c);if(void 0===g){b=null;var k=e.trustedTypes;if(k&&k.createPolicy){try{b=k.createPolicy(\"goog#html\",{createHTML:f,createScript:f,createScriptURL:f})}catch(p){e.console&&e.console.error(p.message)}g=b}else g=b}a=(b=g)?b.createScriptURL(a):a;a=new l(a,h);c.src=a instanceof l&&a.constructor===l?a.g:\"type_error:TrustedResourceUrl\";var d;a=(c.ownerDocument&&c.ownerDocument.defaultView||window).document;(d=(a=null===(d=a.querySelector)||void 0===d?void 0:d.call(a,\"script[nonce]\"))?a.nonce||a.getAttribute(\"nonce\")||\"\":\"\")&&c.setAttribute(\"nonce\",d);document.body.appendChild(c);google.psa=!0};setTimeout(function(){m()},0);})();(function(){window.google.xjsu='/xjs/_/js/k\\x3dxjs.hp.en.qbeEE0-Agks.O/m\\x3dsb_he,d/am\\x3dAPgEWA/d\\x3d1/ed\\x3d1/rs\\x3dACT90oHUnOPEk0RrJsDhJiYYAaZExFLRvQ';})();function _DumpException(e){throw e;}\n",
      "function _F_installCss(c){}\n",
      "(function(){google.jl={attn:false,blt:'none',chnk:0,dw:false,emtn:0,end:0,ine:false,lls:'default',pdt:0,rep:0,sif:false,snet:true,strt:0,ubm:false,uwp:true};})();(function(){var pmc='{\\x22d\\x22:{},\\x22sb_he\\x22:{\\x22agen\\x22:false,\\x22cgen\\x22:false,\\x22client\\x22:\\x22heirloom-hp\\x22,\\x22dh\\x22:true,\\x22dhqt\\x22:true,\\x22ds\\x22:\\x22\\x22,\\x22ffql\\x22:\\x22en\\x22,\\x22fl\\x22:true,\\x22host\\x22:\\x22google.com\\x22,\\x22isbh\\x22:28,\\x22jsonp\\x22:true,\\x22msgs\\x22:{\\x22cibl\\x22:\\x22Clear Search\\x22,\\x22dym\\x22:\\x22Did you mean:\\x22,\\x22lcky\\x22:\\x22I\\\\u0026#39;m Feeling Lucky\\x22,\\x22lml\\x22:\\x22Learn more\\x22,\\x22oskt\\x22:\\x22Input tools\\x22,\\x22psrc\\x22:\\x22This search was removed from your \\\\u003Ca href\\x3d\\\\\\x22/history\\\\\\x22\\\\u003EWeb History\\\\u003C/a\\\\u003E\\x22,\\x22psrl\\x22:\\x22Remove\\x22,\\x22sbit\\x22:\\x22Search by image\\x22,\\x22srch\\x22:\\x22Google Search\\x22},\\x22ovr\\x22:{},\\x22pq\\x22:\\x22\\x22,\\x22refpd\\x22:true,\\x22rfs\\x22:[],\\x22sbas\\x22:\\x220 3px 8px 0 rgba(0,0,0,0.2),0 0 0 1px rgba(0,0,0,0.08)\\x22,\\x22sbpl\\x22:16,\\x22sbpr\\x22:16,\\x22scd\\x22:10,\\x22stok\\x22:\\x22HdfeMUImClsM599O6Re7EPRFmBA\\x22,\\x22uhde\\x22:false}}';google.pmc=JSON.parse(pmc);})();</script>        </body></html>\n"
     ]
    }
   ],
   "source": [
    "#18\n",
    "import requests as req\n",
    "resp = req.request(method='GET', url=\"https://google.com\")\n",
    "print(resp.text)"
   ]
  },
  {
   "cell_type": "code",
   "execution_count": 3,
   "id": "5400043e",
   "metadata": {},
   "outputs": [],
   "source": [
    "#19\n",
    "import requests\n",
    "\n",
    "recv= requests.get('https://cdn.britannica.com/s:800x450,c:crop/40/189440-138-4637CAAC/video-Los-Angeles.jpg')\n",
    "\n",
    "with open(r'C:\\Users\\Tanuj Dey\\Pictures\\images.jpg','wb') as f:\n",
    "    f.write(recv.content)"
   ]
  },
  {
   "cell_type": "code",
   "execution_count": null,
   "id": "cd6d9079",
   "metadata": {},
   "outputs": [
    {
     "name": "stdout",
     "output_type": "stream",
     "text": [
      "Socket successfully created\n",
      "socket binded to  1234\n",
      "socket is listening\n",
      "Got connection from ('127.0.0.1', 52246)\n"
     ]
    }
   ],
   "source": [
    "#20\n",
    "#Server\n",
    "import socket\n",
    "s = socket.socket()     \n",
    "print (\"Socket successfully created\")\n",
    "s.bind(('127.0.0.1', 1234))      \n",
    "print (\"socket binded to \" ,1234)\n",
    "s.listen(5) \n",
    "print (\"socket is listening\")\n",
    "while True:\n",
    "    c, addr = s.accept()\n",
    "    print ('Got connection from', addr )\n",
    "    c.send('Thank you for connecting'.encode())\n",
    "    c.close()\n"
   ]
  },
  {
   "cell_type": "code",
   "execution_count": null,
   "id": "33e1365f",
   "metadata": {},
   "outputs": [],
   "source": []
  }
 ],
 "metadata": {
  "kernelspec": {
   "display_name": "Python 3",
   "language": "python",
   "name": "python3"
  },
  "language_info": {
   "codemirror_mode": {
    "name": "ipython",
    "version": 3
   },
   "file_extension": ".py",
   "mimetype": "text/x-python",
   "name": "python",
   "nbconvert_exporter": "python",
   "pygments_lexer": "ipython3",
   "version": "3.8.8"
  }
 },
 "nbformat": 4,
 "nbformat_minor": 5
}
