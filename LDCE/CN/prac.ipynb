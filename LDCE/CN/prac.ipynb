{
 "cells": [
  {
   "cell_type": "markdown",
   "id": "171b7414",
   "metadata": {},
   "source": [
    "# Computer Networks\n",
    "## LDCE, GTU \n",
    "https://s3-ap-southeast-1.amazonaws.com/gtusitecirculars/Syallbus/629404.pdf"
   ]
  },
  {
   "cell_type": "code",
   "execution_count": 1,
   "id": "ccd1e2c7",
   "metadata": {},
   "outputs": [
    {
     "name": "stdout",
     "output_type": "stream",
     "text": [
      "LAPTOP-TANUJ7\n",
      "192.168.31.135\n"
     ]
    }
   ],
   "source": [
    "#1\n",
    "import socket\n",
    "local_host = socket.gethostname()\n",
    "local_ip = socket.gethostbyname(local_host)\n",
    "\n",
    "print(local_host)\n",
    "print(local_ip)"
   ]
  },
  {
   "cell_type": "code",
   "execution_count": 2,
   "id": "dc40963f",
   "metadata": {},
   "outputs": [
    {
     "name": "stdout",
     "output_type": "stream",
     "text": [
      "142.250.192.4\n",
      "bom12s14-in-f4.1e100.net\n"
     ]
    }
   ],
   "source": [
    "#2\n",
    "print(socket.gethostbyname(\"www.google.com\"))\n",
    "print(socket.gethostbyaddr(socket.gethostbyname(\"www.google.com\"))[0])"
   ]
  },
  {
   "cell_type": "code",
   "execution_count": 3,
   "id": "e2dd61c1",
   "metadata": {},
   "outputs": [
    {
     "name": "stdout",
     "output_type": "stream",
     "text": [
      "bom12s14-in-f4.1e100.net\n",
      "142.250.192.4\n"
     ]
    }
   ],
   "source": [
    "#3\n",
    "hostname = socket.gethostbyaddr(socket.gethostbyname(\"www.google.com\"))[0]\n",
    "print(hostname)\n",
    "print(socket.gethostbyname(hostname))"
   ]
  },
  {
   "cell_type": "code",
   "execution_count": 4,
   "id": "4ea415dc",
   "metadata": {},
   "outputs": [
    {
     "name": "stdout",
     "output_type": "stream",
     "text": [
      "Open port 80\n",
      "Open port 135\n",
      "Open port 139\n",
      "Open port 443\n",
      "Open port 445\n",
      "Open port 3306\n",
      "Open port 5040\n",
      "Open port 7680\n",
      "Open port 9012\n",
      "Open port 9013\n",
      "Open port 49664\n",
      "Open port 49665\n",
      "Open port 49666\n",
      "Open port 49667\n",
      "Open port 49668\n",
      "Open port 49669\n",
      "Open port 55900\n",
      "Open port 55902\n",
      "Open port 55904\n",
      "Open port 55906\n",
      "Open port 55908\n",
      "Open port 55911\n",
      "Open port 56802\n",
      "Open port 58889\n",
      "Open port 58891\n",
      "Open port 58893\n",
      "Open port 63627\n"
     ]
    }
   ],
   "source": [
    "#4\n",
    "for port in range(65535):\n",
    "    try:\n",
    "        s = socket.socket(socket.AF_INET, socket.SOCK_STREAM)\n",
    "        s.bind((local_ip,port))\n",
    "    except:\n",
    "        print(\"Open port\",port)\n",
    "    s.close()"
   ]
  },
  {
   "cell_type": "code",
   "execution_count": 5,
   "id": "26dccedf",
   "metadata": {},
   "outputs": [
    {
     "name": "stdout",
     "output_type": "stream",
     "text": [
      "Open port 123\n",
      "Open port 137\n",
      "Open port 138\n",
      "Open port 1900\n",
      "Open port 5050\n",
      "Open port 5353\n",
      "Open port 5355\n",
      "Open port 49888\n",
      "Open port 61370\n",
      "Open port 63535\n",
      "Open port 63998\n"
     ]
    }
   ],
   "source": [
    "#5\n",
    "for port in range(65535):\n",
    "    try:\n",
    "        s = socket.socket(socket.AF_INET, socket.SOCK_DGRAM)\n",
    "        s.bind((local_ip,port))\n",
    "    except:\n",
    "        print(\"Open port\",port)\n",
    "    s.close()"
   ]
  },
  {
   "cell_type": "code",
   "execution_count": 6,
   "id": "1b532aed",
   "metadata": {},
   "outputs": [
    {
     "name": "stdout",
     "output_type": "stream",
     "text": [
      "Server waiting for connection\n",
      "IP Address: 127.0.0.1\n",
      "Hostname LAPTOP-TANUJ7\n",
      "Port Number: 60218\n"
     ]
    }
   ],
   "source": [
    "#6\n",
    "#Server\n",
    "s = socket.socket(socket.AF_INET,socket.SOCK_STREAM)\n",
    "s.bind(('127.0.0.1',12345))\n",
    "s.listen(7)\n",
    "\n",
    "print(\"Server waiting for connection\")\n",
    "client_socket,addr = s.accept()\n",
    "print(\"IP Address:\",addr[0])\n",
    "print(\"Hostname\",socket.gethostbyaddr(addr[0])[0])\n",
    "print(\"Port Number:\",addr[1])\n",
    "try:\n",
    "    client_socket.send(\"Thanks for connecting\".encode())\n",
    "except:\n",
    "    print(\"Error\")\n",
    "client_socket.close()\n",
    "s.close()\n",
    "        \n",
    "    "
   ]
  },
  {
   "cell_type": "code",
   "execution_count": 7,
   "id": "e8ef4813",
   "metadata": {},
   "outputs": [
    {
     "name": "stdout",
     "output_type": "stream",
     "text": [
      "Server waiting for connection\n",
      "Hello Server\n",
      "IP Address 127.0.0.1\n",
      "Hostname LAPTOP-TANUJ7\n",
      "Port Number 54041\n"
     ]
    }
   ],
   "source": [
    "#7\n",
    "#Server\n",
    "import socket\n",
    "serv = socket.socket(socket.AF_INET,socket.SOCK_DGRAM)\n",
    "serv.bind(('127.0.0.1', 1234))\n",
    "print(\"Server waiting for connection\")\n",
    "try:\n",
    "    data,addr = serv.recvfrom(1024)\n",
    "    print(data.decode())\n",
    "    print(\"IP Address\",addr[0])\n",
    "    print(\"Hostname\",socket.gethostbyaddr(addr[0])[0]);\n",
    "    print(\"Port Number\",addr[1])\n",
    "    serv.sendto(\"Thanks for connecting\".encode(), addr)\n",
    "except:\n",
    "    print(\"Error\")"
   ]
  },
  {
   "cell_type": "code",
   "execution_count": 8,
   "id": "1ff0ab0c",
   "metadata": {},
   "outputs": [
    {
     "name": "stdout",
     "output_type": "stream",
     "text": [
      "Server waiting for connection\n",
      "Done\n"
     ]
    }
   ],
   "source": [
    "#8\n",
    "#Server\n",
    "s = socket.socket(socket.AF_INET,socket.SOCK_STREAM)\n",
    "s.bind(('127.0.0.1',12345))\n",
    "s.listen(7)\n",
    "\n",
    "print(\"Server waiting for connection\")\n",
    "try:\n",
    "    client_socket,addr = s.accept()\n",
    "    client_socket.send(\"Thanks for connecting\".encode())\n",
    "except:\n",
    "    print(\"Error\")\n",
    "client_socket.close()\n",
    "s.close()\n",
    "print(\"Done\")"
   ]
  },
  {
   "cell_type": "code",
   "execution_count": 9,
   "id": "a0d9aab7",
   "metadata": {},
   "outputs": [
    {
     "name": "stdout",
     "output_type": "stream",
     "text": [
      "Server waiting for connection\n",
      "Done\n"
     ]
    }
   ],
   "source": [
    "#9\n",
    "#Server\n",
    "import socket\n",
    "serv = socket.socket(socket.AF_INET,socket.SOCK_DGRAM)\n",
    "serv.bind(('127.0.0.1', 1234))\n",
    "print(\"Server waiting for connection\")\n",
    "try:\n",
    "    data,addr = serv.recvfrom(1024)\n",
    "    serv.sendto(\"Thanks for connecting\".encode(), addr)\n",
    "except:\n",
    "    print(\"Error\")\n",
    "print(\"Done\")"
   ]
  }
 ],
 "metadata": {
  "kernelspec": {
   "display_name": "Python 3",
   "language": "python",
   "name": "python3"
  },
  "language_info": {
   "codemirror_mode": {
    "name": "ipython",
    "version": 3
   },
   "file_extension": ".py",
   "mimetype": "text/x-python",
   "name": "python",
   "nbconvert_exporter": "python",
   "pygments_lexer": "ipython3",
   "version": "3.8.8"
  }
 },
 "nbformat": 4,
 "nbformat_minor": 5
}
