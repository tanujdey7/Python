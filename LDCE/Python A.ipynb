{
 "cells": [
  {
   "cell_type": "code",
   "execution_count": 1,
   "id": "46892524",
   "metadata": {},
   "outputs": [
    {
     "name": "stdout",
     "output_type": "stream",
     "text": [
      "Fahrenheit: 212.0\n",
      "Celcius 100.0\n"
     ]
    }
   ],
   "source": [
    "celc = 100;\n",
    "fer = celc*(9/5)+32;\n",
    "print(\"Fahrenheit:\",fer)\n",
    "celc = (fer-32)*5/9\n",
    "print(\"Celcius\",celc)\n"
   ]
  },
  {
   "cell_type": "code",
   "execution_count": 2,
   "id": "617e3725",
   "metadata": {},
   "outputs": [
    {
     "name": "stdout",
     "output_type": "stream",
     "text": [
      "10 20\n",
      "Swapped\n",
      "20 10\n"
     ]
    }
   ],
   "source": [
    "a = 10;\n",
    "b = 20;\n",
    "print(a,b);\n",
    "a = a + b;\n",
    "b = a - b;\n",
    "a = a - b;\n",
    "print(\"Swapped\")\n",
    "print(a,b);"
   ]
  },
  {
   "cell_type": "code",
   "execution_count": 3,
   "id": "83a6c632",
   "metadata": {},
   "outputs": [
    {
     "name": "stdout",
     "output_type": "stream",
     "text": [
      "Binary: 0b1100100\n",
      "Octal: 0o144\n",
      "Hexadecimal 0x64\n"
     ]
    }
   ],
   "source": [
    "a = 100\n",
    "print(\"Binary:\",bin(a))\n",
    "print(\"Octal:\",oct(a))\n",
    "print(\"Hexadecimal\",hex(a))"
   ]
  },
  {
   "cell_type": "code",
   "execution_count": 4,
   "id": "b5a054dd",
   "metadata": {},
   "outputs": [
    {
     "name": "stdout",
     "output_type": "stream",
     "text": [
      "3\n",
      "1\n",
      "42\n",
      "1.125\n"
     ]
    }
   ],
   "source": [
    "def add(a,b):\n",
    "    print(a+b)\n",
    "def sub(a,b):\n",
    "    print(a-b)\n",
    "def mul(a,b):\n",
    "    print(a*b)\n",
    "def div(a,b):\n",
    "    print(a/b)\n",
    "\n",
    "add(1,2)\n",
    "sub(4,3)\n",
    "mul(6,7)\n",
    "div(9,8)"
   ]
  },
  {
   "cell_type": "code",
   "execution_count": 5,
   "id": "0aae9bc6",
   "metadata": {},
   "outputs": [
    {
     "name": "stdout",
     "output_type": "stream",
     "text": [
      "4\n",
      "3\n",
      "5\n",
      "Greatest Number: \n",
      "5\n",
      "Smallest Number: \n",
      "3\n"
     ]
    }
   ],
   "source": [
    "a = input()\n",
    "b = input()\n",
    "c = input()\n",
    "print(\"Greatest Number: \")\n",
    "if(a>b and a>c):\n",
    "    print(a)\n",
    "elif(b>a and b>c):\n",
    "    print(b)\n",
    "elif(c>a and c>b):\n",
    "    print(c)\n",
    "print(\"Smallest Number: \")\n",
    "if(a<b and a<c):\n",
    "    print(a)\n",
    "elif(b<a and b<c):\n",
    "    print(b)\n",
    "elif(c<a and c<b):\n",
    "    print(c)"
   ]
  },
  {
   "cell_type": "code",
   "execution_count": 6,
   "id": "d0a67f45",
   "metadata": {},
   "outputs": [
    {
     "name": "stdout",
     "output_type": "stream",
     "text": [
      "1\n",
      "5\n",
      "2\n",
      "7\n",
      "4\n",
      "7\n",
      "98\n",
      "3\n",
      "4\n",
      "5\n",
      "Greatest number:  98\n"
     ]
    }
   ],
   "source": [
    "a = 0\n",
    "for i in range(10):\n",
    "    b = int(input()) \n",
    "    if(b>a):\n",
    "        a = b\n",
    "print(\"Greatest number: \",a)\n"
   ]
  },
  {
   "cell_type": "code",
   "execution_count": 7,
   "id": "56cc7dd1",
   "metadata": {},
   "outputs": [
    {
     "name": "stdout",
     "output_type": "stream",
     "text": [
      "Armstrong number: 153\n"
     ]
    }
   ],
   "source": [
    "a = 153\n",
    "temp = a\n",
    "sum = 0\n",
    "while(temp>0):\n",
    "    rem = temp % 10\n",
    "    sum = sum + rem**3\n",
    "    temp//=10\n",
    "if(sum==a):\n",
    "    print(\"Armstrong number:\",a)\n",
    "else:\n",
    "    print(\"Not Armstrong Number\",a)"
   ]
  },
  {
   "cell_type": "code",
   "execution_count": 8,
   "id": "6a635ee1",
   "metadata": {},
   "outputs": [
    {
     "name": "stdout",
     "output_type": "stream",
     "text": [
      "12321\n",
      "Palindrome\n"
     ]
    }
   ],
   "source": [
    "a = int(input())\n",
    "newA = a\n",
    "rem = 0\n",
    "rev = 0\n",
    "while(a != 0):\n",
    "    rem = a % 10\n",
    "    rev = rev * 10 + rem\n",
    "    a //=10\n",
    "if(newA==rev):\n",
    "    print(\"Palindrome\")\n",
    "else:\n",
    "    print(\"Not a Palindrome\")"
   ]
  },
  {
   "cell_type": "code",
   "execution_count": 9,
   "id": "d2b9f14e",
   "metadata": {},
   "outputs": [
    {
     "name": "stdout",
     "output_type": "stream",
     "text": [
      "Hello olleH\n",
      "Length of String: 11\n",
      "Vowels: 4\n",
      "Reverse String: Hello olleH\n",
      "Palindrome\n"
     ]
    }
   ],
   "source": [
    "str = input()\n",
    "count = 0\n",
    "for i in str:\n",
    "    count+=1\n",
    "print(\"Length of String:\",count)\n",
    "vowel = 0\n",
    "for i in range(count):\n",
    "    if(str[i]==\"a\" or str[i]==\"e\" or str[i]==\"i\" or str[i]==\"o\" or str[i]==\"u\"):\n",
    "        vowel+=1\n",
    "print(\"Vowels:\",vowel)\n",
    "revstr = \"\"\n",
    "for i in range(count,0,-1):\n",
    "    revstr+=str[i-1]\n",
    "print(\"Reverse String:\",revstr)\n",
    "if(str==revstr):\n",
    "    print(\"Palindrome\")\n",
    "else:\n",
    "    print(\"Not Palindrome\")"
   ]
  },
  {
   "cell_type": "code",
   "execution_count": 10,
   "id": "f06d63d7",
   "metadata": {},
   "outputs": [
    {
     "name": "stdout",
     "output_type": "stream",
     "text": [
      "5\n",
      "Factorial: 120\n"
     ]
    }
   ],
   "source": [
    "def fact(a):\n",
    "    if(a==0 or a==1):\n",
    "        return 1\n",
    "    else:\n",
    "        return a*fact(a-1)\n",
    "print(\"Factorial:\",fact(int(input())))"
   ]
  },
  {
   "cell_type": "code",
   "execution_count": 11,
   "id": "c47ad19c",
   "metadata": {},
   "outputs": [
    {
     "name": "stdout",
     "output_type": "stream",
     "text": [
      "9\n",
      "Fibonacci: 34\n"
     ]
    }
   ],
   "source": [
    "def fib(a):\n",
    "    if(a<=1):\n",
    "        return a\n",
    "    else:\n",
    "        return fib(a-1)+fib(a-2)\n",
    "print(\"Fibonacci:\",fib(int(input())))"
   ]
  },
  {
   "cell_type": "code",
   "execution_count": 12,
   "id": "5218cc12",
   "metadata": {},
   "outputs": [
    {
     "name": "stdout",
     "output_type": "stream",
     "text": [
      "****\n",
      "\n",
      "*********\n",
      "\n",
      "*******\n",
      "\n"
     ]
    }
   ],
   "source": [
    "def histogram(a):\n",
    "    for i in a:\n",
    "        for j in range(i):\n",
    "            print(\"*\",end=\"\")\n",
    "        print(\"\\n\")\n",
    "histogram([4,9,7])"
   ]
  },
  {
   "cell_type": "code",
   "execution_count": 13,
   "id": "01339ed1",
   "metadata": {},
   "outputs": [
    {
     "name": "stdout",
     "output_type": "stream",
     "text": [
      "Hello World\n",
      "\n",
      "This is demo file\n",
      "\n",
      "hahahah\u0000\u0000\u0000\u0000\u0000\u0000\u0000\u0000\u0000\u0000\u0000\u0000\u0000\u0000\u0000\u0000\u0000\u0000\u0000\u0000\u0000\u0000\u0000\u0000\u0000\u0000\u0000\u0000\u0000\u0000\u0000\u0000\u0000\u0000\u0000\u0000\u0000\u0000\u0000\u0000\u0000\u0000\u0000\u0000\u0000\u0000\u0000\u0000\u0000\u0000\u0000\u0000\u0000\u0000\u0000\u0000\u0000\u0000\u0000\u0000\u0000\u0000\u0000\u0000\u0000\u0000\u0000\u0000\u0000\u0000\u0000\u0000\u0000\u0000\u0000\u0000\u0000\u0000\u0000\u0000\u0000\u0000\u0000\u0000\u0000\u0000\u0000\u0000\u0000\u0000\u0000\u0000\u0000\u0000\u0000\u0000\u0000\u0000\u0000\u0000\u0000\u0000\u0000\u0000\u0000\u0000\u0000\u0000\u0000\u0000\u0000\u0000\u0000\u0000\u0000\u0000\u0000\u0000\u0000\u0000\u0000\u0000\u0000\u0000\u0000\u0000\u0000\u0000\u0000\u0000\u0000\u0000\u0000\u0000\u0000\u0000\u0000\u0000\u0000\u0000\u0000\u0000\u0000\u0000\u0000\u0000\u0000\u0000\u0000\u0000\u0000\u0000\u0000\u0000\u0000\u0000\u0000\u0000\u0000\u0000\u0000\u0000\u0000\u0000\u0000\u0000\u0000\u0000\u0000\u0000\u0000\u0000\u0000\u0000\u0000\u0000\u0000\u0000\u0000\u0000\u0000\u0000\n",
      "\n",
      "New line added\n",
      "\n",
      "India is great\n",
      "\n",
      "Jai Ho\n",
      "\n"
     ]
    }
   ],
   "source": [
    "def readline():\n",
    "    print(file.readline())\n",
    "def readlines():\n",
    "    for i in file.readlines():\n",
    "        print(i)\n",
    "def write():\n",
    "    file.write(\"\\nNew line added\\n\")\n",
    "def writes():\n",
    "    file.writelines(['India is great\\n','Jai Ho\\n'])\n",
    "file = open(\"test.txt\",\"r+\")\n",
    "\n",
    "readline()\n",
    "readlines()\n",
    "write()\n",
    "readlines()\n",
    "writes()\n",
    "readlines()"
   ]
  }
 ],
 "metadata": {
  "kernelspec": {
   "display_name": "Python 3",
   "language": "python",
   "name": "python3"
  },
  "language_info": {
   "codemirror_mode": {
    "name": "ipython",
    "version": 3
   },
   "file_extension": ".py",
   "mimetype": "text/x-python",
   "name": "python",
   "nbconvert_exporter": "python",
   "pygments_lexer": "ipython3",
   "version": "3.8.8"
  }
 },
 "nbformat": 4,
 "nbformat_minor": 5
}
