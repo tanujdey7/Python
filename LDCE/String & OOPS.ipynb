{
 "cells": [
  {
   "cell_type": "markdown",
   "id": "1775eb90",
   "metadata": {},
   "source": [
    "Write a program to open/close file with read a paragraph from file and perform following tasks: \n",
    "    1.       Return the count of sub-string {pattern} appears in the given file\n",
    "    2.       Reverse Every Word of File \n",
    "    3.       Remove the {a,e,i,o,u} from the words of File Replace Every Character \n",
    "            a-z by z-a(reverse order, aàz, bày, …)"
   ]
  },
  {
   "cell_type": "code",
   "execution_count": 3,
   "id": "7e3337b1",
   "metadata": {},
   "outputs": [
    {
     "name": "stdout",
     "output_type": "stream",
     "text": [
      "Hello World\n",
      "\n",
      "This is demo file\n",
      "\n",
      "hahahah\u0000\u0000\u0000\u0000\u0000\u0000\u0000\u0000\u0000\u0000\u0000\u0000\u0000\u0000\u0000\u0000\u0000\u0000\u0000\u0000\u0000\u0000\u0000\u0000\u0000\u0000\u0000\u0000\u0000\u0000\u0000\u0000\u0000\u0000\u0000\u0000\u0000\u0000\u0000\u0000\u0000\u0000\u0000\u0000\u0000\u0000\u0000\u0000\u0000\u0000\u0000\u0000\u0000\u0000\u0000\u0000\u0000\u0000\u0000\u0000\u0000\u0000\u0000\u0000\u0000\u0000\u0000\u0000\u0000\u0000\u0000\u0000\u0000\u0000\u0000\u0000\u0000\u0000\u0000\u0000\u0000\u0000\u0000\u0000\u0000\u0000\u0000\u0000\u0000\u0000\u0000\u0000\u0000\u0000\u0000\u0000\u0000\u0000\u0000\u0000\u0000\u0000\u0000\u0000\u0000\u0000\u0000\u0000\u0000\u0000\u0000\u0000\u0000\u0000\u0000\u0000\u0000\u0000\u0000\u0000\u0000\u0000\u0000\u0000\u0000\u0000\u0000\u0000\u0000\u0000\u0000\u0000\u0000\u0000\u0000\u0000\u0000\u0000\u0000\u0000\u0000\u0000\u0000\u0000\u0000\u0000\u0000\u0000\u0000\u0000\u0000\u0000\u0000\u0000\u0000\u0000\u0000\u0000\u0000\u0000\u0000\u0000\u0000\u0000\u0000\u0000\u0000\u0000\u0000\u0000\u0000\u0000\u0000\u0000\u0000\u0000\u0000\u0000\u0000\u0000\u0000\u0000\n",
      "\n",
      "New line added\n",
      "\n",
      "India is great\n",
      "\n",
      "Jai Ho\n",
      "\n"
     ]
    }
   ],
   "source": [
    "def readline():\n",
    "    print(file.readline())\n",
    "def readlines():\n",
    "    for i in file.readlines():\n",
    "        print(i)\n",
    "def write():\n",
    "    file.write(\"\\nNew line added\\n\")\n",
    "def writes():\n",
    "    file.writelines(['India is great\\n','Jai Ho\\n'])\n",
    "file = open(\"test.txt\",\"r+\")\n",
    "\n",
    "readline()\n",
    "readlines()\n",
    "write()\n",
    "readlines()\n",
    "writes()\n",
    "readlines()"
   ]
  },
  {
   "cell_type": "code",
   "execution_count": 88,
   "id": "259e5bd5",
   "metadata": {},
   "outputs": [
    {
     "name": "stdout",
     "output_type": "stream",
     "text": [
      "\n",
      "dlroW olleH\n",
      "\n",
      "elif omed si sihT\n",
      "\n",
      "hahahah\n",
      "\n",
      "\n",
      "\n",
      "dedda enil weN\n",
      "\n",
      "taerg si aidnI\n",
      "oH iaJ\n"
     ]
    }
   ],
   "source": [
    "file = open(\"test.txt\",\"r+\")\n",
    "temp = []\n",
    "a=0\n",
    "for i in file.readlines():\n",
    "    temp.append(i.split('\\n'))\n",
    "    print(i[::-1])\n",
    "# print(\"Substrings:\",len(temp))\n"
   ]
  },
  {
   "cell_type": "markdown",
   "id": "f4c293fa",
   "metadata": {},
   "source": [
    "Create a Vehicle class without any variables and methods \n",
    "  2.       Create a Vehicle class with max_speed and mileage instance attributes \n",
    "  3.       Create a child class Bus that will inherit all of the variables and methods of the Vehicle class \n",
    "  4.       Create a Bus class that inherits from the Vehicle class. \n",
    "          Give the capacity argument of Bus.seating_capacity() a default value of 50. \n",
    "  5.       Define property that should have the same value for every class instance \n",
    "  6.       Create a Bus child class that inherits from the Vehicle class. \n",
    "          The default fare charge of any vehicle is seating capacity * 100. \n",
    "          If Vehicle is Bus instance, we need to add an extra 10% on full fare as a maintenance charge. \n",
    "          So total fare for bus instance will become the final amount = total fare + 10% of the total fare. \n",
    "  7.       Determine which class a given Bus object belongs to (Check type of an object) \n",
    "  8.       Determine if School_bus is also an instance of the Vehicle class."
   ]
  },
  {
   "cell_type": "code",
   "execution_count": 140,
   "id": "a1521175",
   "metadata": {},
   "outputs": [],
   "source": [
    "class Vehicle:\n",
    "    def __init__(self,name,max_speed,mileage):\n",
    "        self.name = name\n",
    "        self.max_speed = max_speed\n",
    "        self.mileage = mileage\n",
    "    def seating_capacity(self,capacity):\n",
    "        return f\"Seating capacity of {self.name} is {capacity}\"\n",
    "    def fare(self,capacity):\n",
    "        amount = capacity*100\n",
    "        maintenance = amount/10\n",
    "        total = amount+maintenance\n",
    "        return f\"Fare charge is Rs.{total}\""
   ]
  },
  {
   "cell_type": "code",
   "execution_count": 141,
   "id": "a42610f3",
   "metadata": {},
   "outputs": [
    {
     "name": "stdout",
     "output_type": "stream",
     "text": [
      "Model Ashok Leyland with Top Speed of 80 and Mileage of 15\n",
      "Seating capacity of Ashok Leyland is 48\n",
      "Fare charge is Rs.5280.0\n"
     ]
    }
   ],
   "source": [
    "class Bus(Vehicle):\n",
    "    def seating_capacity(self,capacity=48):\n",
    "        return super().seating_capacity(capacity=48)\n",
    "    def fare(self,capacity=48):\n",
    "        return super().fare(capacity=48)\n",
    "\n",
    "bus = Bus(\"Ashok Leyland\",80,15)\n",
    "print(f\"Model {bus.name} with Top Speed of {bus.max_speed} and Mileage of {bus.mileage}\")\n",
    "print(bus.seating_capacity())\n",
    "print(bus.fare())\n"
   ]
  },
  {
   "cell_type": "code",
   "execution_count": 117,
   "id": "e740c096",
   "metadata": {},
   "outputs": [
    {
     "name": "stdout",
     "output_type": "stream",
     "text": [
      "Seating capacity of Ashok Leyland is 48\n"
     ]
    }
   ],
   "source": [
    "class Bus(Vehicle):\n",
    "    def seating_capacity(self,capacity=48):\n",
    "        return super().seating_capacity(capacity=48)\n",
    "    def \n",
    "bus = Bus(\"Ashok Leyland\",80,15)\n",
    "print(bus.seating_capacity())\n"
   ]
  },
  {
   "cell_type": "code",
   "execution_count": 118,
   "id": "ace0f75b",
   "metadata": {},
   "outputs": [
    {
     "name": "stdout",
     "output_type": "stream",
     "text": [
      "Model Tata Harrier with Top Speed of 160 and Mileage of 17\n"
     ]
    }
   ],
   "source": [
    "class Car(Vehicle):\n",
    "    pass\n",
    "car = Car(\"Tata Harrier\",160,17)\n",
    "print(f\"Model {car.name} with Top Speed of {car.max_speed} and Mileage of {car.mileage}\")"
   ]
  },
  {
   "cell_type": "code",
   "execution_count": 144,
   "id": "dad976f5",
   "metadata": {},
   "outputs": [
    {
     "name": "stdout",
     "output_type": "stream",
     "text": [
      "<class '__main__.Bus'>\n",
      "True\n"
     ]
    }
   ],
   "source": [
    "print(type(bus))\n",
    "print(isinstance(bus,Vehicle))"
   ]
  }
 ],
 "metadata": {
  "kernelspec": {
   "display_name": "Python 3",
   "language": "python",
   "name": "python3"
  },
  "language_info": {
   "codemirror_mode": {
    "name": "ipython",
    "version": 3
   },
   "file_extension": ".py",
   "mimetype": "text/x-python",
   "name": "python",
   "nbconvert_exporter": "python",
   "pygments_lexer": "ipython3",
   "version": "3.8.8"
  }
 },
 "nbformat": 4,
 "nbformat_minor": 5
}
